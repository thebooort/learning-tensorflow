{
 "cells": [
  {
   "cell_type": "markdown",
   "metadata": {},
   "source": [
    "## Regresión lineal con un ejemplo simple"
   ]
  },
  {
   "cell_type": "code",
   "execution_count": 1,
   "metadata": {},
   "outputs": [],
   "source": [
    "import numpy as np\n",
    "import pandas as pd\n",
    "import matplotlib.pyplot as plt\n",
    "%matplotlib inline"
   ]
  },
  {
   "cell_type": "code",
   "execution_count": 2,
   "metadata": {},
   "outputs": [],
   "source": [
    "import tensorflow as tf"
   ]
  },
  {
   "cell_type": "markdown",
   "metadata": {},
   "source": [
    "### Creación de los datos"
   ]
  },
  {
   "cell_type": "code",
   "execution_count": 3,
   "metadata": {},
   "outputs": [],
   "source": [
    "x_data = np.linspace(0.0, 10.0, 1000000) # 1 millon de puntos"
   ]
  },
  {
   "cell_type": "code",
   "execution_count": 4,
   "metadata": {},
   "outputs": [
    {
     "data": {
      "text/plain": [
       "array([-1.12149596,  0.21346187,  0.19232739, ...,  0.99276069,\n",
       "        0.84117293, -0.10431824])"
      ]
     },
     "execution_count": 4,
     "metadata": {},
     "output_type": "execute_result"
    }
   ],
   "source": [
    "noise = np.random.randn(len(x_data))\n",
    "noise"
   ]
  },
  {
   "cell_type": "markdown",
   "metadata": {},
   "source": [
    "La generación de la variable objetivo $y$ de los datos viene dada por $y = 0.5*x + 5 + noise$"
   ]
  },
  {
   "cell_type": "code",
   "execution_count": 5,
   "metadata": {},
   "outputs": [],
   "source": [
    "y_true = (0.5*x_data)+5+noise"
   ]
  },
  {
   "cell_type": "code",
   "execution_count": 6,
   "metadata": {},
   "outputs": [
    {
     "data": {
      "text/html": [
       "<div>\n",
       "<style scoped>\n",
       "    .dataframe tbody tr th:only-of-type {\n",
       "        vertical-align: middle;\n",
       "    }\n",
       "\n",
       "    .dataframe tbody tr th {\n",
       "        vertical-align: top;\n",
       "    }\n",
       "\n",
       "    .dataframe thead th {\n",
       "        text-align: right;\n",
       "    }\n",
       "</style>\n",
       "<table border=\"1\" class=\"dataframe\">\n",
       "  <thead>\n",
       "    <tr style=\"text-align: right;\">\n",
       "      <th></th>\n",
       "      <th>X Data</th>\n",
       "      <th>Y</th>\n",
       "    </tr>\n",
       "  </thead>\n",
       "  <tbody>\n",
       "    <tr>\n",
       "      <th>0</th>\n",
       "      <td>0.00000</td>\n",
       "      <td>3.878504</td>\n",
       "    </tr>\n",
       "    <tr>\n",
       "      <th>1</th>\n",
       "      <td>0.00001</td>\n",
       "      <td>5.213467</td>\n",
       "    </tr>\n",
       "    <tr>\n",
       "      <th>2</th>\n",
       "      <td>0.00002</td>\n",
       "      <td>5.192337</td>\n",
       "    </tr>\n",
       "    <tr>\n",
       "      <th>3</th>\n",
       "      <td>0.00003</td>\n",
       "      <td>5.928523</td>\n",
       "    </tr>\n",
       "    <tr>\n",
       "      <th>4</th>\n",
       "      <td>0.00004</td>\n",
       "      <td>5.563485</td>\n",
       "    </tr>\n",
       "  </tbody>\n",
       "</table>\n",
       "</div>"
      ],
      "text/plain": [
       "    X Data         Y\n",
       "0  0.00000  3.878504\n",
       "1  0.00001  5.213467\n",
       "2  0.00002  5.192337\n",
       "3  0.00003  5.928523\n",
       "4  0.00004  5.563485"
      ]
     },
     "execution_count": 6,
     "metadata": {},
     "output_type": "execute_result"
    }
   ],
   "source": [
    "x_df = pd.DataFrame(data=x_data, columns=['X Data'])\n",
    "y_df = pd.DataFrame(data=y_true, columns=['Y'])\n",
    "my_data = pd.concat([x_df, y_df], axis=1)\n",
    "my_data.head()"
   ]
  },
  {
   "cell_type": "code",
   "execution_count": 7,
   "metadata": {},
   "outputs": [
    {
     "data": {
      "text/plain": [
       "<matplotlib.axes._subplots.AxesSubplot at 0x20a99992f28>"
      ]
     },
     "execution_count": 7,
     "metadata": {},
     "output_type": "execute_result"
    },
    {
     "data": {
      "image/png": "[encoded data removed]",
      "text/plain": [
       "<Figure size 432x288 with 1 Axes>"
      ]
     },
     "metadata": {
      "needs_background": "light"
     },
     "output_type": "display_data"
    }
   ],
   "source": [
    "my_data.sample(n=300).plot(kind='scatter',x='X Data',y='Y') #pintamos un submuestreo ya que el sistema fallaría con el millón de datos a la vez"
   ]
  },
  {
   "cell_type": "markdown",
   "metadata": {},
   "source": [
    "Un millón de puntos son demasiados para pasarlos a la vez a nuestro modelo, por tanto tendremos que ir pasándolos en batches."
   ]
  },
  {
   "cell_type": "code",
   "execution_count": 8,
   "metadata": {},
   "outputs": [],
   "source": [
    "batch_size=10"
   ]
  },
  {
   "cell_type": "markdown",
   "metadata": {},
   "source": [
    "Inicializamos las variables que queremos estimar:"
   ]
  },
  {
   "cell_type": "code",
   "execution_count": 9,
   "metadata": {},
   "outputs": [],
   "source": [
    "m=tf.Variable(2.5)\n",
    "b=tf.Variable(2.0)"
   ]
  },
  {
   "cell_type": "markdown",
   "metadata": {},
   "source": [
    "Vamos a crear los PlaceHolders que almacenarán los datos durante el entrenamiento"
   ]
  },
  {
   "cell_type": "code",
   "execution_count": 10,
   "metadata": {},
   "outputs": [],
   "source": [
    "xph = tf.placeholder(tf.float32, [batch_size])\n",
    "yph = tf.placeholder(tf.float32, [batch_size])"
   ]
  },
  {
   "cell_type": "markdown",
   "metadata": {},
   "source": [
    "Definimos el grafo del modelo:"
   ]
  },
  {
   "cell_type": "code",
   "execution_count": 11,
   "metadata": {},
   "outputs": [],
   "source": [
    "y_model = m*xph + b"
   ]
  },
  {
   "cell_type": "markdown",
   "metadata": {},
   "source": [
    "Definimos nuestra función de error o pérdida:"
   ]
  },
  {
   "cell_type": "code",
   "execution_count": 12,
   "metadata": {},
   "outputs": [],
   "source": [
    "error = tf.reduce_sum(tf.square(yph-y_model))"
   ]
  },
  {
   "cell_type": "markdown",
   "metadata": {},
   "source": [
    "Definimos nuestro optimizador:"
   ]
  },
  {
   "cell_type": "code",
   "execution_count": 13,
   "metadata": {},
   "outputs": [],
   "source": [
    "optimizer = tf.train.GradientDescentOptimizer(learning_rate=0.001)\n",
    "train=optimizer.minimize(error)"
   ]
  },
  {
   "cell_type": "code",
   "execution_count": 14,
   "metadata": {},
   "outputs": [],
   "source": [
    "#Ejecutamos la sesión para estimar las variables\n",
    "init = tf.global_variables_initializer() #inicializamos las variables\n",
    "with tf.Session() as sess:\n",
    "    sess.run(init)\n",
    "    batches = 1000  #Número de batches que utilizaremos\n",
    "    for i in range(batches):\n",
    "        rand_ind=np.random.randint(len(x_data),size=batch_size)\n",
    "        feed={xph:x_data[rand_ind], yph:y_true[rand_ind]} #Datos que le pasaremos al modelo\n",
    "        sess.run(train,feed_dict=feed) #Un paso de optimización\n",
    "    model_m, model_b = sess.run([m,b])"
   ]
  },
  {
   "cell_type": "markdown",
   "metadata": {},
   "source": [
    "Valores estimados:"
   ]
  },
  {
   "cell_type": "code",
   "execution_count": 15,
   "metadata": {},
   "outputs": [
    {
     "data": {
      "text/plain": [
       "0.48238602"
      ]
     },
     "execution_count": 15,
     "metadata": {},
     "output_type": "execute_result"
    }
   ],
   "source": [
    "model_m"
   ]
  },
  {
   "cell_type": "code",
   "execution_count": 16,
   "metadata": {},
   "outputs": [
    {
     "data": {
      "text/plain": [
       "5.009738"
      ]
     },
     "execution_count": 16,
     "metadata": {},
     "output_type": "execute_result"
    }
   ],
   "source": [
    "model_b"
   ]
  },
  {
   "cell_type": "markdown",
   "metadata": {},
   "source": [
    "Representación de la recta en la nube de puntos:"
   ]
  },
  {
   "cell_type": "code",
   "execution_count": 17,
   "metadata": {},
   "outputs": [],
   "source": [
    "y_hat=x_data*model_m + model_b"
   ]
  },
  {
   "cell_type": "code",
   "execution_count": 18,
   "metadata": {},
   "outputs": [
    {
     "data": {
      "image/png": "[encoded data removed]",
      "text/plain": [
       "<Figure size 432x288 with 1 Axes>"
      ]
     },
     "metadata": {
      "needs_background": "light"
     },
     "output_type": "display_data"
    }
   ],
   "source": [
    "my_data.sample(300).plot(kind='scatter', x='X Data', y='Y')\n",
    "plt.plot(x_data,y_hat,'r')\n",
    "plt.show()"
   ]
  },
  {
   "cell_type": "markdown",
   "metadata": {},
   "source": [
    "## Usando la Estimator API en tensorflow (TF Estimator)"
   ]
  },
  {
   "cell_type": "code",
   "execution_count": 19,
   "metadata": {},
   "outputs": [
    {
     "name": "stdout",
     "output_type": "stream",
     "text": [
      "INFO:tensorflow:Using default config.\n",
      "WARNING:tensorflow:Using temporary folder as model directory: C:\\Users\\Miguel\\AppData\\Local\\Temp\\tmp91t_r7nh\n",
      "INFO:tensorflow:Using config: {'_session_config': None, '_model_dir': 'C:\\\\Users\\\\Miguel\\\\AppData\\\\Local\\\\Temp\\\\tmp91t_r7nh', '_keep_checkpoint_every_n_hours': 10000, '_service': None, '_save_checkpoints_steps': None, '_task_id': 0, '_task_type': 'worker', '_tf_random_seed': None, '_save_summary_steps': 100, '_log_step_count_steps': 100, '_num_worker_replicas': 1, '_master': '', '_keep_checkpoint_max': 5, '_cluster_spec': <tensorflow.python.training.server_lib.ClusterSpec object at 0x0000020A9923BD30>, '_is_chief': True, '_save_checkpoints_secs': 600, '_num_ps_replicas': 0}\n"
     ]
    }
   ],
   "source": [
    "feat_cols = [tf.feature_column.numeric_column('x', shape=[1])] #Creamos la columna numérica de rasgos con dimensionalidad 1\n",
    "estimator=tf.estimator.LinearRegressor(feature_columns=feat_cols) #Definimos el estimador lineal sobre los rasgos"
   ]
  },
  {
   "cell_type": "code",
   "execution_count": 20,
   "metadata": {},
   "outputs": [],
   "source": [
    "from sklearn.model_selection import train_test_split"
   ]
  },
  {
   "cell_type": "code",
   "execution_count": 21,
   "metadata": {},
   "outputs": [],
   "source": [
    "X_train, X_test, y_train, y_test = train_test_split(x_data, y_true, test_size=0.3, random_state=42)"
   ]
  },
  {
   "cell_type": "code",
   "execution_count": 22,
   "metadata": {},
   "outputs": [
    {
     "name": "stdout",
     "output_type": "stream",
     "text": [
      "(700000,) (300000,)\n"
     ]
    }
   ],
   "source": [
    "print(X_train.shape, X_test.shape)"
   ]
  },
  {
   "cell_type": "markdown",
   "metadata": {},
   "source": [
    "Funciones input para training y test"
   ]
  },
  {
   "cell_type": "code",
   "execution_count": 23,
   "metadata": {},
   "outputs": [],
   "source": [
    "input_func = tf.estimator.inputs.numpy_input_fn({'x':X_train},y_train, batch_size=10, num_epochs=None, shuffle=True)"
   ]
  },
  {
   "cell_type": "code",
   "execution_count": 24,
   "metadata": {},
   "outputs": [],
   "source": [
    "train_input_func = tf.estimator.inputs.numpy_input_fn({'x':X_train},y_train, batch_size=10, num_epochs=1000, shuffle=False)\n",
    "test_input_func = tf.estimator.inputs.numpy_input_fn({'x':X_test},y_test, batch_size=10, num_epochs=1000, shuffle=False)"
   ]
  },
  {
   "cell_type": "markdown",
   "metadata": {},
   "source": [
    "### Entrenamiento y evaluación"
   ]
  },
  {
   "cell_type": "code",
   "execution_count": 25,
   "metadata": {},
   "outputs": [
    {
     "name": "stdout",
     "output_type": "stream",
     "text": [
      "INFO:tensorflow:Create CheckpointSaverHook.\n",
      "INFO:tensorflow:Saving checkpoints for 1 into C:\\Users\\Miguel\\AppData\\Local\\Temp\\tmp91t_r7nh\\model.ckpt.\n",
      "INFO:tensorflow:loss = 506.7113, step = 1\n",
      "INFO:tensorflow:global_step/sec: 1036.15\n",
      "INFO:tensorflow:loss = 15.31381, step = 101 (0.097 sec)\n",
      "INFO:tensorflow:global_step/sec: 1574.6\n",
      "INFO:tensorflow:loss = 25.99125, step = 201 (0.064 sec)\n",
      "INFO:tensorflow:global_step/sec: 1639.15\n",
      "INFO:tensorflow:loss = 20.726511, step = 301 (0.061 sec)\n",
      "INFO:tensorflow:global_step/sec: 1538.27\n",
      "INFO:tensorflow:loss = 12.939698, step = 401 (0.065 sec)\n",
      "INFO:tensorflow:global_step/sec: 1388.72\n",
      "INFO:tensorflow:loss = 9.458005, step = 501 (0.073 sec)\n",
      "INFO:tensorflow:global_step/sec: 1574.57\n",
      "INFO:tensorflow:loss = 10.372141, step = 601 (0.064 sec)\n",
      "INFO:tensorflow:global_step/sec: 1449.12\n",
      "INFO:tensorflow:loss = 3.67844, step = 701 (0.069 sec)\n",
      "INFO:tensorflow:global_step/sec: 1360.36\n",
      "INFO:tensorflow:loss = 8.300106, step = 801 (0.074 sec)\n",
      "INFO:tensorflow:global_step/sec: 1418.25\n",
      "INFO:tensorflow:loss = 15.2904625, step = 901 (0.070 sec)\n",
      "INFO:tensorflow:Saving checkpoints for 1000 into C:\\Users\\Miguel\\AppData\\Local\\Temp\\tmp91t_r7nh\\model.ckpt.\n",
      "INFO:tensorflow:Loss for final step: 9.721348.\n"
     ]
    },
    {
     "data": {
      "text/plain": [
       "<tensorflow.python.estimator.canned.linear.LinearRegressor at 0x20a99418dd8>"
      ]
     },
     "execution_count": 25,
     "metadata": {},
     "output_type": "execute_result"
    }
   ],
   "source": [
    "estimator.train(input_fn=input_func, steps=1000)"
   ]
  },
  {
   "cell_type": "code",
   "execution_count": 26,
   "metadata": {},
   "outputs": [
    {
     "name": "stdout",
     "output_type": "stream",
     "text": [
      "INFO:tensorflow:Starting evaluation at 2019-06-17-08:20:04\n",
      "INFO:tensorflow:Restoring parameters from C:\\Users\\Miguel\\AppData\\Local\\Temp\\tmp91t_r7nh\\model.ckpt-1000\n",
      "INFO:tensorflow:Evaluation [100/1000]\n",
      "INFO:tensorflow:Evaluation [200/1000]\n",
      "INFO:tensorflow:Evaluation [300/1000]\n",
      "INFO:tensorflow:Evaluation [400/1000]\n",
      "INFO:tensorflow:Evaluation [500/1000]\n",
      "INFO:tensorflow:Evaluation [600/1000]\n",
      "INFO:tensorflow:Evaluation [700/1000]\n",
      "INFO:tensorflow:Evaluation [800/1000]\n",
      "INFO:tensorflow:Evaluation [900/1000]\n",
      "INFO:tensorflow:Evaluation [1000/1000]\n",
      "INFO:tensorflow:Finished evaluation at 2019-06-17-08:20:05\n",
      "INFO:tensorflow:Saving dict for global step 1000: average_loss = 1.0832701, global_step = 1000, loss = 10.8327\n"
     ]
    }
   ],
   "source": [
    "train_metrics = estimator.evaluate(input_fn=train_input_func, steps=1000)"
   ]
  },
  {
   "cell_type": "code",
   "execution_count": 27,
   "metadata": {},
   "outputs": [
    {
     "name": "stdout",
     "output_type": "stream",
     "text": [
      "INFO:tensorflow:Starting evaluation at 2019-06-17-08:20:06\n",
      "INFO:tensorflow:Restoring parameters from C:\\Users\\Miguel\\AppData\\Local\\Temp\\tmp91t_r7nh\\model.ckpt-1000\n",
      "INFO:tensorflow:Evaluation [100/1000]\n",
      "INFO:tensorflow:Evaluation [200/1000]\n",
      "INFO:tensorflow:Evaluation [300/1000]\n",
      "INFO:tensorflow:Evaluation [400/1000]\n",
      "INFO:tensorflow:Evaluation [500/1000]\n",
      "INFO:tensorflow:Evaluation [600/1000]\n",
      "INFO:tensorflow:Evaluation [700/1000]\n",
      "INFO:tensorflow:Evaluation [800/1000]\n",
      "INFO:tensorflow:Evaluation [900/1000]\n",
      "INFO:tensorflow:Evaluation [1000/1000]\n",
      "INFO:tensorflow:Finished evaluation at 2019-06-17-08:20:07\n",
      "INFO:tensorflow:Saving dict for global step 1000: average_loss = 1.0524105, global_step = 1000, loss = 10.524104\n"
     ]
    }
   ],
   "source": [
    "test_metrics = estimator.evaluate(input_fn=test_input_func, steps=1000)"
   ]
  },
  {
   "cell_type": "code",
   "execution_count": 28,
   "metadata": {},
   "outputs": [
    {
     "name": "stdout",
     "output_type": "stream",
     "text": [
      "Training metrics:  {'average_loss': 1.0832701, 'global_step': 1000, 'loss': 10.8327}\n",
      "Test metrics:  {'average_loss': 1.0524105, 'global_step': 1000, 'loss': 10.524104}\n"
     ]
    }
   ],
   "source": [
    "print('Training metrics: ', train_metrics)\n",
    "print('Test metrics: ', test_metrics)"
   ]
  },
  {
   "cell_type": "markdown",
   "metadata": {},
   "source": [
    "### Predicciones"
   ]
  },
  {
   "cell_type": "code",
   "execution_count": 29,
   "metadata": {},
   "outputs": [],
   "source": [
    "brand_new_data = np.linspace(0,10,10)"
   ]
  },
  {
   "cell_type": "code",
   "execution_count": 30,
   "metadata": {},
   "outputs": [],
   "source": [
    "input_fn_predict = tf.estimator.inputs.numpy_input_fn({'x':brand_new_data}, shuffle=False)"
   ]
  },
  {
   "cell_type": "code",
   "execution_count": 31,
   "metadata": {},
   "outputs": [
    {
     "name": "stdout",
     "output_type": "stream",
     "text": [
      "INFO:tensorflow:Restoring parameters from C:\\Users\\Miguel\\AppData\\Local\\Temp\\tmp91t_r7nh\\model.ckpt-1000\n"
     ]
    }
   ],
   "source": [
    "predictions = []\n",
    "for pred in estimator.predict(input_fn=input_fn_predict):\n",
    "    predictions.append(pred['predictions'])"
   ]
  },
  {
   "cell_type": "code",
   "execution_count": 32,
   "metadata": {},
   "outputs": [
    {
     "data": {
      "text/plain": [
       "[array([4.493443], dtype=float32),\n",
       " array([5.135667], dtype=float32),\n",
       " array([5.777891], dtype=float32),\n",
       " array([6.420115], dtype=float32),\n",
       " array([7.0623393], dtype=float32),\n",
       " array([7.704563], dtype=float32),\n",
       " array([8.3467865], dtype=float32),\n",
       " array([8.989012], dtype=float32),\n",
       " array([9.631235], dtype=float32),\n",
       " array([10.2734585], dtype=float32)]"
      ]
     },
     "execution_count": 32,
     "metadata": {},
     "output_type": "execute_result"
    }
   ],
   "source": [
    "predictions"
   ]
  },
  {
   "cell_type": "code",
   "execution_count": 33,
   "metadata": {},
   "outputs": [
    {
     "data": {
      "image/png": "[encoded data removed]",
      "text/plain": [
       "<Figure size 432x288 with 1 Axes>"
      ]
     },
     "metadata": {
      "needs_background": "light"
     },
     "output_type": "display_data"
    }
   ],
   "source": [
    "my_data.sample(n=300).plot(kind='scatter', x='X Data', y='Y', alpha=0.25)\n",
    "plt.plot(brand_new_data, predictions, 'r*')\n",
    "plt.show()"
   ]
  },
  {
   "cell_type": "markdown",
   "metadata": {},
   "source": [
    "## Ejemplo con Housing Price"
   ]
  },
  {
   "cell_type": "code",
   "execution_count": 40,
   "metadata": {},
   "outputs": [],
   "source": [
    "import sklearn.datasets"
   ]
  },
  {
   "cell_type": "code",
   "execution_count": 73,
   "metadata": {},
   "outputs": [],
   "source": [
    "X = sklearn.datasets.fetch_california_housing(return_X_y=False)"
   ]
  },
  {
   "cell_type": "code",
   "execution_count": 74,
   "metadata": {},
   "outputs": [],
   "source": [
    "cols = X['feature_names']"
   ]
  },
  {
   "cell_type": "code",
   "execution_count": 75,
   "metadata": {},
   "outputs": [],
   "source": [
    "X, y = sklearn.datasets.fetch_california_housing(return_X_y=True)"
   ]
  },
  {
   "cell_type": "markdown",
   "metadata": {},
   "source": [
    "#### Train-Test Split"
   ]
  },
  {
   "cell_type": "code",
   "execution_count": 51,
   "metadata": {},
   "outputs": [],
   "source": [
    "from sklearn.model_selection import train_test_split"
   ]
  },
  {
   "cell_type": "code",
   "execution_count": 99,
   "metadata": {},
   "outputs": [],
   "source": [
    "X_train, X_test, y_train, y_test = train_test_split(X, y, test_size=0.3, random_state=42)"
   ]
  },
  {
   "cell_type": "markdown",
   "metadata": {},
   "source": [
    "#### Scale the Feature Data"
   ]
  },
  {
   "cell_type": "code",
   "execution_count": 100,
   "metadata": {},
   "outputs": [],
   "source": [
    "from sklearn.preprocessing import MinMaxScaler"
   ]
  },
  {
   "cell_type": "markdown",
   "metadata": {},
   "source": [
    "Hacemos una normalización para facilitar la computación. Esta transformación se la hacemos al train."
   ]
  },
  {
   "cell_type": "code",
   "execution_count": 101,
   "metadata": {},
   "outputs": [],
   "source": [
    "scaler = MinMaxScaler()"
   ]
  },
  {
   "cell_type": "code",
   "execution_count": 102,
   "metadata": {},
   "outputs": [
    {
     "data": {
      "text/plain": [
       "MinMaxScaler(copy=True, feature_range=(0, 1))"
      ]
     },
     "execution_count": 102,
     "metadata": {},
     "output_type": "execute_result"
    }
   ],
   "source": [
    "scaler.fit(X_train)"
   ]
  },
  {
   "cell_type": "code",
   "execution_count": 103,
   "metadata": {},
   "outputs": [],
   "source": [
    "X_train = pd.DataFrame(data=scaler.transform(X_train), columns=cols)\n",
    "X_test = pd.DataFrame(data=scaler.transform(X_test), columns = cols)"
   ]
  },
  {
   "cell_type": "code",
   "execution_count": 104,
   "metadata": {},
   "outputs": [],
   "source": [
    "y_train = pd.DataFrame(data=y_train)"
   ]
  },
  {
   "cell_type": "code",
   "execution_count": 113,
   "metadata": {},
   "outputs": [
    {
     "data": {
      "text/html": [
       "<div>\n",
       "<style scoped>\n",
       "    .dataframe tbody tr th:only-of-type {\n",
       "        vertical-align: middle;\n",
       "    }\n",
       "\n",
       "    .dataframe tbody tr th {\n",
       "        vertical-align: top;\n",
       "    }\n",
       "\n",
       "    .dataframe thead th {\n",
       "        text-align: right;\n",
       "    }\n",
       "</style>\n",
       "<table border=\"1\" class=\"dataframe\">\n",
       "  <thead>\n",
       "    <tr style=\"text-align: right;\">\n",
       "      <th></th>\n",
       "      <th>MedInc</th>\n",
       "      <th>HouseAge</th>\n",
       "      <th>AveRooms</th>\n",
       "      <th>AveBedrms</th>\n",
       "      <th>Population</th>\n",
       "      <th>AveOccup</th>\n",
       "      <th>Latitude</th>\n",
       "      <th>Longitude</th>\n",
       "    </tr>\n",
       "  </thead>\n",
       "  <tbody>\n",
       "    <tr>\n",
       "      <th>0</th>\n",
       "      <td>0.250431</td>\n",
       "      <td>0.666667</td>\n",
       "      <td>0.035410</td>\n",
       "      <td>0.025379</td>\n",
       "      <td>0.034054</td>\n",
       "      <td>0.001845</td>\n",
       "      <td>0.146809</td>\n",
       "      <td>0.630478</td>\n",
       "    </tr>\n",
       "    <tr>\n",
       "      <th>1</th>\n",
       "      <td>0.162977</td>\n",
       "      <td>0.372549</td>\n",
       "      <td>0.024907</td>\n",
       "      <td>0.029375</td>\n",
       "      <td>0.027916</td>\n",
       "      <td>0.001064</td>\n",
       "      <td>0.025532</td>\n",
       "      <td>0.723108</td>\n",
       "    </tr>\n",
       "    <tr>\n",
       "      <th>2</th>\n",
       "      <td>0.255355</td>\n",
       "      <td>0.450980</td>\n",
       "      <td>0.033532</td>\n",
       "      <td>0.025931</td>\n",
       "      <td>0.020404</td>\n",
       "      <td>0.001507</td>\n",
       "      <td>0.217021</td>\n",
       "      <td>0.419323</td>\n",
       "    </tr>\n",
       "    <tr>\n",
       "      <th>3</th>\n",
       "      <td>0.179963</td>\n",
       "      <td>0.254902</td>\n",
       "      <td>0.035319</td>\n",
       "      <td>0.030070</td>\n",
       "      <td>0.008380</td>\n",
       "      <td>0.001204</td>\n",
       "      <td>0.713830</td>\n",
       "      <td>0.333665</td>\n",
       "    </tr>\n",
       "    <tr>\n",
       "      <th>4</th>\n",
       "      <td>0.193577</td>\n",
       "      <td>1.000000</td>\n",
       "      <td>0.027743</td>\n",
       "      <td>0.028966</td>\n",
       "      <td>0.042686</td>\n",
       "      <td>0.001292</td>\n",
       "      <td>0.555319</td>\n",
       "      <td>0.189243</td>\n",
       "    </tr>\n",
       "  </tbody>\n",
       "</table>\n",
       "</div>"
      ],
      "text/plain": [
       "     MedInc  HouseAge  AveRooms  AveBedrms  Population  AveOccup  Latitude  \\\n",
       "0  0.250431  0.666667  0.035410   0.025379    0.034054  0.001845  0.146809   \n",
       "1  0.162977  0.372549  0.024907   0.029375    0.027916  0.001064  0.025532   \n",
       "2  0.255355  0.450980  0.033532   0.025931    0.020404  0.001507  0.217021   \n",
       "3  0.179963  0.254902  0.035319   0.030070    0.008380  0.001204  0.713830   \n",
       "4  0.193577  1.000000  0.027743   0.028966    0.042686  0.001292  0.555319   \n",
       "\n",
       "   Longitude  \n",
       "0   0.630478  \n",
       "1   0.723108  \n",
       "2   0.419323  \n",
       "3   0.333665  \n",
       "4   0.189243  "
      ]
     },
     "execution_count": 113,
     "metadata": {},
     "output_type": "execute_result"
    }
   ],
   "source": [
    "X_train.head()"
   ]
  },
  {
   "cell_type": "markdown",
   "metadata": {},
   "source": [
    "#### Create Feature Columns"
   ]
  },
  {
   "cell_type": "code",
   "execution_count": 114,
   "metadata": {},
   "outputs": [],
   "source": [
    "age=tf.feature_column.numeric_column('HouseAge')\n",
    "bedrooms=tf.feature_column.numeric_column('AveBedrms')\n",
    "pop=tf.feature_column.numeric_column('Population')\n",
    "households=tf.feature_column.numeric_column('AveOccup')\n",
    "rooms=tf.feature_column.numeric_column('AveRooms')\n",
    "income=tf.feature_column.numeric_column('MedInc')"
   ]
  },
  {
   "cell_type": "code",
   "execution_count": 115,
   "metadata": {},
   "outputs": [],
   "source": [
    "feat_cols = [age,rooms,pop,households,income]"
   ]
  },
  {
   "cell_type": "code",
   "execution_count": 116,
   "metadata": {},
   "outputs": [],
   "source": [
    "input_func=tf.estimator.inputs.pandas_input_fn(x=X_train,y=y_train,batch_size=10, num_epochs=100, shuffle=True)"
   ]
  },
  {
   "cell_type": "code",
   "execution_count": 117,
   "metadata": {},
   "outputs": [
    {
     "name": "stdout",
     "output_type": "stream",
     "text": [
      "INFO:tensorflow:Using default config.\n",
      "WARNING:tensorflow:Using temporary folder as model directory: C:\\Users\\Miguel\\AppData\\Local\\Temp\\tmphatd_3pu\n",
      "INFO:tensorflow:Using config: {'_session_config': None, '_model_dir': 'C:\\\\Users\\\\Miguel\\\\AppData\\\\Local\\\\Temp\\\\tmphatd_3pu', '_keep_checkpoint_every_n_hours': 10000, '_service': None, '_save_checkpoints_steps': None, '_task_id': 0, '_task_type': 'worker', '_tf_random_seed': None, '_save_summary_steps': 100, '_log_step_count_steps': 100, '_num_worker_replicas': 1, '_master': '', '_keep_checkpoint_max': 5, '_cluster_spec': <tensorflow.python.training.server_lib.ClusterSpec object at 0x0000020A9C9A00B8>, '_is_chief': True, '_save_checkpoints_secs': 600, '_num_ps_replicas': 0}\n"
     ]
    }
   ],
   "source": [
    "model =tf.estimator.DNNRegressor(hidden_units=[6,6,6],feature_columns=feat_cols)"
   ]
  },
  {
   "cell_type": "code",
   "execution_count": 118,
   "metadata": {},
   "outputs": [
    {
     "name": "stdout",
     "output_type": "stream",
     "text": [
      "INFO:tensorflow:Create CheckpointSaverHook.\n",
      "INFO:tensorflow:Saving checkpoints for 1 into C:\\Users\\Miguel\\AppData\\Local\\Temp\\tmphatd_3pu\\model.ckpt.\n",
      "INFO:tensorflow:loss = 66.78048, step = 1\n",
      "INFO:tensorflow:global_step/sec: 438.54\n",
      "INFO:tensorflow:loss = 10.854254, step = 101 (0.229 sec)\n",
      "INFO:tensorflow:global_step/sec: 526.245\n",
      "INFO:tensorflow:loss = 3.0293372, step = 201 (0.191 sec)\n",
      "INFO:tensorflow:global_step/sec: 571.358\n",
      "INFO:tensorflow:loss = 3.640711, step = 301 (0.174 sec)\n",
      "INFO:tensorflow:global_step/sec: 522.126\n",
      "INFO:tensorflow:loss = 4.4268794, step = 401 (0.192 sec)\n",
      "INFO:tensorflow:global_step/sec: 571.356\n",
      "INFO:tensorflow:loss = 1.7484608, step = 501 (0.175 sec)\n",
      "INFO:tensorflow:global_step/sec: 557.032\n",
      "INFO:tensorflow:loss = 4.596377, step = 601 (0.179 sec)\n",
      "INFO:tensorflow:global_step/sec: 574.642\n",
      "INFO:tensorflow:loss = 20.480162, step = 701 (0.175 sec)\n",
      "INFO:tensorflow:global_step/sec: 572.992\n",
      "INFO:tensorflow:loss = 5.665812, step = 801 (0.175 sec)\n",
      "INFO:tensorflow:global_step/sec: 555.483\n",
      "INFO:tensorflow:loss = 7.511365, step = 901 (0.180 sec)\n",
      "INFO:tensorflow:global_step/sec: 558.59\n",
      "INFO:tensorflow:loss = 5.226356, step = 1001 (0.179 sec)\n",
      "INFO:tensorflow:global_step/sec: 540.473\n",
      "INFO:tensorflow:loss = 3.5498219, step = 1101 (0.185 sec)\n",
      "INFO:tensorflow:global_step/sec: 561.724\n",
      "INFO:tensorflow:loss = 6.234897, step = 1201 (0.179 sec)\n",
      "INFO:tensorflow:global_step/sec: 574.635\n",
      "INFO:tensorflow:loss = 3.7982316, step = 1301 (0.174 sec)\n",
      "INFO:tensorflow:global_step/sec: 498.692\n",
      "INFO:tensorflow:loss = 3.2549665, step = 1401 (0.201 sec)\n",
      "INFO:tensorflow:global_step/sec: 421.887\n",
      "INFO:tensorflow:loss = 12.237128, step = 1501 (0.238 sec)\n",
      "INFO:tensorflow:global_step/sec: 466.142\n",
      "INFO:tensorflow:loss = 3.764602, step = 1601 (0.214 sec)\n",
      "INFO:tensorflow:global_step/sec: 546.379\n",
      "INFO:tensorflow:loss = 11.263428, step = 1701 (0.183 sec)\n",
      "INFO:tensorflow:global_step/sec: 558.585\n",
      "INFO:tensorflow:loss = 3.3008857, step = 1801 (0.180 sec)\n",
      "INFO:tensorflow:global_step/sec: 550.893\n",
      "INFO:tensorflow:loss = 4.837106, step = 1901 (0.181 sec)\n",
      "INFO:tensorflow:global_step/sec: 566.503\n",
      "INFO:tensorflow:loss = 12.05462, step = 2001 (0.177 sec)\n",
      "INFO:tensorflow:global_step/sec: 522.126\n",
      "INFO:tensorflow:loss = 7.11034, step = 2101 (0.194 sec)\n",
      "INFO:tensorflow:global_step/sec: 523.489\n",
      "INFO:tensorflow:loss = 3.9515238, step = 2201 (0.189 sec)\n",
      "INFO:tensorflow:global_step/sec: 504.986\n",
      "INFO:tensorflow:loss = 5.5248313, step = 2301 (0.199 sec)\n",
      "INFO:tensorflow:global_step/sec: 560.157\n",
      "INFO:tensorflow:loss = 2.6130056, step = 2401 (0.178 sec)\n",
      "INFO:tensorflow:global_step/sec: 572.991\n",
      "INFO:tensorflow:loss = 5.2753863, step = 2501 (0.175 sec)\n",
      "INFO:tensorflow:global_step/sec: 547.875\n",
      "INFO:tensorflow:loss = 1.9204916, step = 2601 (0.183 sec)\n",
      "INFO:tensorflow:global_step/sec: 536.127\n",
      "INFO:tensorflow:loss = 11.570579, step = 2701 (0.187 sec)\n",
      "INFO:tensorflow:global_step/sec: 541.926\n",
      "INFO:tensorflow:loss = 8.079585, step = 2801 (0.187 sec)\n",
      "INFO:tensorflow:global_step/sec: 504.991\n",
      "INFO:tensorflow:loss = 9.191055, step = 2901 (0.196 sec)\n",
      "INFO:tensorflow:global_step/sec: 541.938\n",
      "INFO:tensorflow:loss = 2.802692, step = 3001 (0.185 sec)\n",
      "INFO:tensorflow:global_step/sec: 552.373\n",
      "INFO:tensorflow:loss = 4.860979, step = 3101 (0.181 sec)\n",
      "INFO:tensorflow:global_step/sec: 541.938\n",
      "INFO:tensorflow:loss = 5.3006244, step = 3201 (0.185 sec)\n",
      "INFO:tensorflow:global_step/sec: 583.018\n",
      "INFO:tensorflow:loss = 3.6871524, step = 3301 (0.171 sec)\n",
      "INFO:tensorflow:global_step/sec: 531.847\n",
      "INFO:tensorflow:loss = 13.589043, step = 3401 (0.189 sec)\n",
      "INFO:tensorflow:global_step/sec: 560.152\n",
      "INFO:tensorflow:loss = 4.0241446, step = 3501 (0.179 sec)\n",
      "INFO:tensorflow:global_step/sec: 524.865\n",
      "INFO:tensorflow:loss = 7.259663, step = 3601 (0.191 sec)\n",
      "INFO:tensorflow:global_step/sec: 544.892\n",
      "INFO:tensorflow:loss = 2.3853788, step = 3701 (0.184 sec)\n",
      "INFO:tensorflow:global_step/sec: 529.033\n",
      "INFO:tensorflow:loss = 6.093693, step = 3801 (0.189 sec)\n",
      "INFO:tensorflow:global_step/sec: 546.378\n",
      "INFO:tensorflow:loss = 3.1702366, step = 3901 (0.183 sec)\n",
      "INFO:tensorflow:global_step/sec: 549.378\n",
      "INFO:tensorflow:loss = 15.555641, step = 4001 (0.183 sec)\n",
      "INFO:tensorflow:global_step/sec: 534.694\n",
      "INFO:tensorflow:loss = 2.9944394, step = 4101 (0.187 sec)\n",
      "INFO:tensorflow:global_step/sec: 540.468\n",
      "INFO:tensorflow:loss = 4.4223704, step = 4201 (0.186 sec)\n",
      "INFO:tensorflow:global_step/sec: 537.568\n",
      "INFO:tensorflow:loss = 9.699425, step = 4301 (0.186 sec)\n",
      "INFO:tensorflow:global_step/sec: 547.87\n",
      "INFO:tensorflow:loss = 6.2766075, step = 4401 (0.184 sec)\n",
      "INFO:tensorflow:global_step/sec: 546.383\n",
      "INFO:tensorflow:loss = 7.448617, step = 4501 (0.182 sec)\n",
      "INFO:tensorflow:global_step/sec: 546.375\n",
      "INFO:tensorflow:loss = 2.2774103, step = 4601 (0.184 sec)\n",
      "INFO:tensorflow:global_step/sec: 552.418\n",
      "INFO:tensorflow:loss = 3.6907592, step = 4701 (0.181 sec)\n",
      "INFO:tensorflow:global_step/sec: 520.767\n",
      "INFO:tensorflow:loss = 5.358613, step = 4801 (0.192 sec)\n",
      "INFO:tensorflow:global_step/sec: 531.845\n",
      "INFO:tensorflow:loss = 13.224504, step = 4901 (0.188 sec)\n",
      "INFO:tensorflow:global_step/sec: 572.994\n",
      "INFO:tensorflow:loss = 10.934895, step = 5001 (0.175 sec)\n",
      "INFO:tensorflow:global_step/sec: 558.587\n",
      "INFO:tensorflow:loss = 4.1415057, step = 5101 (0.179 sec)\n",
      "INFO:tensorflow:global_step/sec: 572.995\n",
      "INFO:tensorflow:loss = 17.795946, step = 5201 (0.175 sec)\n",
      "INFO:tensorflow:global_step/sec: 558.587\n",
      "INFO:tensorflow:loss = 2.0069957, step = 5301 (0.180 sec)\n",
      "INFO:tensorflow:global_step/sec: 558.589\n",
      "INFO:tensorflow:loss = 4.5138803, step = 5401 (0.178 sec)\n",
      "INFO:tensorflow:global_step/sec: 572.992\n",
      "INFO:tensorflow:loss = 1.9565718, step = 5501 (0.175 sec)\n",
      "INFO:tensorflow:global_step/sec: 566.499\n",
      "INFO:tensorflow:loss = 4.6917105, step = 5601 (0.179 sec)\n",
      "INFO:tensorflow:global_step/sec: 503.713\n",
      "INFO:tensorflow:loss = 4.374537, step = 5701 (0.197 sec)\n",
      "INFO:tensorflow:global_step/sec: 524.867\n",
      "INFO:tensorflow:loss = 8.523347, step = 5801 (0.194 sec)\n",
      "INFO:tensorflow:global_step/sec: 522.128\n",
      "INFO:tensorflow:loss = 4.0901337, step = 5901 (0.190 sec)\n",
      "INFO:tensorflow:global_step/sec: 561.725\n",
      "INFO:tensorflow:loss = 8.763615, step = 6001 (0.179 sec)\n",
      "INFO:tensorflow:global_step/sec: 503.713\n",
      "INFO:tensorflow:loss = 1.7335851, step = 6101 (0.196 sec)\n",
      "INFO:tensorflow:global_step/sec: 561.729\n",
      "INFO:tensorflow:loss = 4.4500027, step = 6201 (0.178 sec)\n",
      "INFO:tensorflow:global_step/sec: 586.434\n",
      "INFO:tensorflow:loss = 5.1520834, step = 6301 (0.172 sec)\n",
      "INFO:tensorflow:global_step/sec: 564.899\n",
      "INFO:tensorflow:loss = 2.50124, step = 6401 (0.176 sec)\n",
      "INFO:tensorflow:global_step/sec: 544.888\n",
      "INFO:tensorflow:loss = 2.8644614, step = 6501 (0.184 sec)\n",
      "INFO:tensorflow:global_step/sec: 557.034\n",
      "INFO:tensorflow:loss = 7.7540264, step = 6601 (0.180 sec)\n",
      "INFO:tensorflow:global_step/sec: 558.588\n",
      "INFO:tensorflow:loss = 3.6988316, step = 6701 (0.179 sec)\n",
      "INFO:tensorflow:global_step/sec: 576.296\n",
      "INFO:tensorflow:loss = 10.120673, step = 6801 (0.174 sec)\n",
      "INFO:tensorflow:global_step/sec: 572.993\n",
      "INFO:tensorflow:loss = 4.7275715, step = 6901 (0.175 sec)\n",
      "INFO:tensorflow:global_step/sec: 547.874\n",
      "INFO:tensorflow:loss = 4.7545047, step = 7001 (0.183 sec)\n",
      "INFO:tensorflow:global_step/sec: 586.432\n",
      "INFO:tensorflow:loss = 8.719222, step = 7101 (0.171 sec)\n",
      "INFO:tensorflow:global_step/sec: 577.963\n",
      "INFO:tensorflow:loss = 4.4865155, step = 7201 (0.173 sec)\n",
      "INFO:tensorflow:global_step/sec: 558.588\n",
      "INFO:tensorflow:loss = 4.7859898, step = 7301 (0.179 sec)\n",
      "INFO:tensorflow:global_step/sec: 561.727\n",
      "INFO:tensorflow:loss = 7.4744263, step = 7401 (0.178 sec)\n",
      "INFO:tensorflow:global_step/sec: 574.638\n",
      "INFO:tensorflow:loss = 20.421791, step = 7501 (0.174 sec)\n",
      "INFO:tensorflow:global_step/sec: 569.727\n",
      "INFO:tensorflow:loss = 20.336292, step = 7601 (0.176 sec)\n",
      "INFO:tensorflow:global_step/sec: 581.323\n",
      "INFO:tensorflow:loss = 6.4334054, step = 7701 (0.172 sec)\n",
      "INFO:tensorflow:global_step/sec: 572.991\n",
      "INFO:tensorflow:loss = 3.5016265, step = 7801 (0.175 sec)\n",
      "INFO:tensorflow:global_step/sec: 568.108\n",
      "INFO:tensorflow:loss = 4.4849052, step = 7901 (0.176 sec)\n",
      "INFO:tensorflow:global_step/sec: 577.96\n",
      "INFO:tensorflow:loss = 4.0222936, step = 8001 (0.173 sec)\n",
      "INFO:tensorflow:global_step/sec: 543.411\n",
      "INFO:tensorflow:loss = 10.204935, step = 8101 (0.184 sec)\n",
      "INFO:tensorflow:global_step/sec: 563.309\n"
     ]
    },
    {
     "name": "stdout",
     "output_type": "stream",
     "text": [
      "INFO:tensorflow:loss = 20.4979, step = 8201 (0.178 sec)\n",
      "INFO:tensorflow:global_step/sec: 579.632\n",
      "INFO:tensorflow:loss = 2.4530597, step = 8301 (0.172 sec)\n",
      "INFO:tensorflow:global_step/sec: 600.523\n",
      "INFO:tensorflow:loss = 5.5801787, step = 8401 (0.167 sec)\n",
      "INFO:tensorflow:global_step/sec: 598.73\n",
      "INFO:tensorflow:loss = 7.1011972, step = 8501 (0.167 sec)\n",
      "INFO:tensorflow:global_step/sec: 591.639\n",
      "INFO:tensorflow:loss = 4.058905, step = 8601 (0.169 sec)\n",
      "INFO:tensorflow:global_step/sec: 569.726\n",
      "INFO:tensorflow:loss = 5.9045477, step = 8701 (0.176 sec)\n",
      "INFO:tensorflow:global_step/sec: 584.723\n",
      "INFO:tensorflow:loss = 13.175818, step = 8801 (0.171 sec)\n",
      "INFO:tensorflow:global_step/sec: 581.321\n",
      "INFO:tensorflow:loss = 8.694504, step = 8901 (0.172 sec)\n",
      "INFO:tensorflow:global_step/sec: 591.64\n",
      "INFO:tensorflow:loss = 6.714331, step = 9001 (0.170 sec)\n",
      "INFO:tensorflow:global_step/sec: 596.938\n",
      "INFO:tensorflow:loss = 4.350903, step = 9101 (0.168 sec)\n",
      "INFO:tensorflow:global_step/sec: 604.152\n",
      "INFO:tensorflow:loss = 3.593442, step = 9201 (0.166 sec)\n",
      "INFO:tensorflow:global_step/sec: 583.016\n",
      "INFO:tensorflow:loss = 4.3702345, step = 9301 (0.172 sec)\n",
      "INFO:tensorflow:global_step/sec: 588.161\n",
      "INFO:tensorflow:loss = 5.2485137, step = 9401 (0.170 sec)\n",
      "INFO:tensorflow:global_step/sec: 595.161\n",
      "INFO:tensorflow:loss = 3.7228506, step = 9501 (0.168 sec)\n",
      "INFO:tensorflow:global_step/sec: 576.292\n",
      "INFO:tensorflow:loss = 9.962383, step = 9601 (0.174 sec)\n",
      "INFO:tensorflow:global_step/sec: 604.157\n",
      "INFO:tensorflow:loss = 11.603877, step = 9701 (0.166 sec)\n",
      "INFO:tensorflow:global_step/sec: 579.638\n",
      "INFO:tensorflow:loss = 4.5120277, step = 9801 (0.173 sec)\n",
      "INFO:tensorflow:global_step/sec: 563.305\n",
      "INFO:tensorflow:loss = 9.259477, step = 9901 (0.177 sec)\n",
      "INFO:tensorflow:Saving checkpoints for 10000 into C:\\Users\\Miguel\\AppData\\Local\\Temp\\tmphatd_3pu\\model.ckpt.\n",
      "INFO:tensorflow:Loss for final step: 2.569388.\n"
     ]
    },
    {
     "data": {
      "text/plain": [
       "<tensorflow.python.estimator.canned.dnn.DNNRegressor at 0x20a9c9a0978>"
      ]
     },
     "execution_count": 118,
     "metadata": {},
     "output_type": "execute_result"
    }
   ],
   "source": [
    "model.train(input_fn=input_func, steps=10000)"
   ]
  },
  {
   "cell_type": "code",
   "execution_count": 119,
   "metadata": {},
   "outputs": [],
   "source": [
    "predict_input_func=tf.estimator.inputs.pandas_input_fn(x=X_test, batch_size=10, num_epochs=1, shuffle=False)"
   ]
  },
  {
   "cell_type": "code",
   "execution_count": 120,
   "metadata": {},
   "outputs": [],
   "source": [
    "pred_gen = model.predict(predict_input_func)"
   ]
  },
  {
   "cell_type": "code",
   "execution_count": 121,
   "metadata": {},
   "outputs": [
    {
     "name": "stdout",
     "output_type": "stream",
     "text": [
      "INFO:tensorflow:Restoring parameters from C:\\Users\\Miguel\\AppData\\Local\\Temp\\tmphatd_3pu\\model.ckpt-10000\n"
     ]
    }
   ],
   "source": [
    "predictions=list(pred_gen)"
   ]
  },
  {
   "cell_type": "code",
   "execution_count": 122,
   "metadata": {},
   "outputs": [
    {
     "data": {
      "text/plain": [
       "[{'predictions': array([1.0871376], dtype=float32)},\n",
       " {'predictions': array([1.471568], dtype=float32)},\n",
       " {'predictions': array([2.4514813], dtype=float32)},\n",
       " {'predictions': array([2.7924755], dtype=float32)},\n",
       " {'predictions': array([2.0859458], dtype=float32)},\n",
       " {'predictions': array([2.1827266], dtype=float32)},\n",
       " {'predictions': array([2.8319101], dtype=float32)},\n",
       " {'predictions': array([2.1820757], dtype=float32)},\n",
       " {'predictions': array([2.0667956], dtype=float32)},\n",
       " {'predictions': array([4.4865828], dtype=float32)},\n",
       " {'predictions': array([1.4447653], dtype=float32)},\n",
       " {'predictions': array([1.8277848], dtype=float32)},\n",
       " {'predictions': array([1.569596], dtype=float32)},\n",
       " {'predictions': array([1.6808418], dtype=float32)},\n",
       " {'predictions': array([2.787858], dtype=float32)},\n",
       " {'predictions': array([2.0102336], dtype=float32)},\n",
       " {'predictions': array([2.3739932], dtype=float32)},\n",
       " {'predictions': array([2.1002543], dtype=float32)},\n",
       " {'predictions': array([2.2010267], dtype=float32)},\n",
       " {'predictions': array([1.2650493], dtype=float32)},\n",
       " {'predictions': array([2.7713408], dtype=float32)},\n",
       " {'predictions': array([2.8402874], dtype=float32)},\n",
       " {'predictions': array([2.3767514], dtype=float32)},\n",
       " {'predictions': array([3.3509448], dtype=float32)},\n",
       " {'predictions': array([2.0228052], dtype=float32)},\n",
       " {'predictions': array([1.3720138], dtype=float32)},\n",
       " {'predictions': array([1.5012892], dtype=float32)},\n",
       " {'predictions': array([1.8646085], dtype=float32)},\n",
       " {'predictions': array([1.789491], dtype=float32)},\n",
       " {'predictions': array([3.4374704], dtype=float32)},\n",
       " {'predictions': array([1.2435828], dtype=float32)},\n",
       " {'predictions': array([1.2773732], dtype=float32)},\n",
       " {'predictions': array([1.5028839], dtype=float32)},\n",
       " {'predictions': array([3.7883337], dtype=float32)},\n",
       " {'predictions': array([2.2035193], dtype=float32)},\n",
       " {'predictions': array([2.7116232], dtype=float32)},\n",
       " {'predictions': array([2.47974], dtype=float32)},\n",
       " {'predictions': array([1.9654233], dtype=float32)},\n",
       " {'predictions': array([2.007055], dtype=float32)},\n",
       " {'predictions': array([1.7908903], dtype=float32)},\n",
       " {'predictions': array([3.2558465], dtype=float32)},\n",
       " {'predictions': array([1.8920493], dtype=float32)},\n",
       " {'predictions': array([1.309857], dtype=float32)},\n",
       " {'predictions': array([1.7445303], dtype=float32)},\n",
       " {'predictions': array([1.8187182], dtype=float32)},\n",
       " {'predictions': array([1.6737671], dtype=float32)},\n",
       " {'predictions': array([1.9870011], dtype=float32)},\n",
       " {'predictions': array([1.6783538], dtype=float32)},\n",
       " {'predictions': array([1.7859375], dtype=float32)},\n",
       " {'predictions': array([1.7874829], dtype=float32)},\n",
       " {'predictions': array([2.1112876], dtype=float32)},\n",
       " {'predictions': array([1.5616534], dtype=float32)},\n",
       " {'predictions': array([1.8342533], dtype=float32)},\n",
       " {'predictions': array([1.0609864], dtype=float32)},\n",
       " {'predictions': array([1.8673503], dtype=float32)},\n",
       " {'predictions': array([2.4994338], dtype=float32)},\n",
       " {'predictions': array([1.2034703], dtype=float32)},\n",
       " {'predictions': array([2.8238606], dtype=float32)},\n",
       " {'predictions': array([2.475141], dtype=float32)},\n",
       " {'predictions': array([2.6176612], dtype=float32)},\n",
       " {'predictions': array([2.400325], dtype=float32)},\n",
       " {'predictions': array([1.8123167], dtype=float32)},\n",
       " {'predictions': array([1.3193544], dtype=float32)},\n",
       " {'predictions': array([1.5933735], dtype=float32)},\n",
       " {'predictions': array([3.1955492], dtype=float32)},\n",
       " {'predictions': array([1.8223876], dtype=float32)},\n",
       " {'predictions': array([1.6155094], dtype=float32)},\n",
       " {'predictions': array([1.7676153], dtype=float32)},\n",
       " {'predictions': array([1.3205595], dtype=float32)},\n",
       " {'predictions': array([1.6668395], dtype=float32)},\n",
       " {'predictions': array([1.6791244], dtype=float32)},\n",
       " {'predictions': array([2.732323], dtype=float32)},\n",
       " {'predictions': array([1.6610444], dtype=float32)},\n",
       " {'predictions': array([1.8962262], dtype=float32)},\n",
       " {'predictions': array([1.8770121], dtype=float32)},\n",
       " {'predictions': array([1.7100251], dtype=float32)},\n",
       " {'predictions': array([3.365916], dtype=float32)},\n",
       " {'predictions': array([1.9156519], dtype=float32)},\n",
       " {'predictions': array([2.512501], dtype=float32)},\n",
       " {'predictions': array([1.7544243], dtype=float32)},\n",
       " {'predictions': array([1.2196945], dtype=float32)},\n",
       " {'predictions': array([1.4656701], dtype=float32)},\n",
       " {'predictions': array([1.1854461], dtype=float32)},\n",
       " {'predictions': array([1.0099783], dtype=float32)},\n",
       " {'predictions': array([4.176581], dtype=float32)},\n",
       " {'predictions': array([2.628731], dtype=float32)},\n",
       " {'predictions': array([1.0999262], dtype=float32)},\n",
       " {'predictions': array([1.1631409], dtype=float32)},\n",
       " {'predictions': array([1.0650778], dtype=float32)},\n",
       " {'predictions': array([1.5462246], dtype=float32)},\n",
       " {'predictions': array([1.8259132], dtype=float32)},\n",
       " {'predictions': array([2.093839], dtype=float32)},\n",
       " {'predictions': array([1.4990504], dtype=float32)},\n",
       " {'predictions': array([1.2067122], dtype=float32)},\n",
       " {'predictions': array([1.3511035], dtype=float32)},\n",
       " {'predictions': array([1.6150255], dtype=float32)},\n",
       " {'predictions': array([2.482913], dtype=float32)},\n",
       " {'predictions': array([1.3488387], dtype=float32)},\n",
       " {'predictions': array([1.5768278], dtype=float32)},\n",
       " {'predictions': array([2.2395825], dtype=float32)},\n",
       " {'predictions': array([1.4611759], dtype=float32)},\n",
       " {'predictions': array([4.0332255], dtype=float32)},\n",
       " {'predictions': array([2.3000982], dtype=float32)},\n",
       " {'predictions': array([3.2129593], dtype=float32)},\n",
       " {'predictions': array([2.2285304], dtype=float32)},\n",
       " {'predictions': array([1.8032436], dtype=float32)},\n",
       " {'predictions': array([1.3814445], dtype=float32)},\n",
       " {'predictions': array([3.153309], dtype=float32)},\n",
       " {'predictions': array([1.9499975], dtype=float32)},\n",
       " {'predictions': array([1.4218798], dtype=float32)},\n",
       " {'predictions': array([1.5625775], dtype=float32)},\n",
       " {'predictions': array([2.7660685], dtype=float32)},\n",
       " {'predictions': array([5.119419], dtype=float32)},\n",
       " {'predictions': array([3.4462006], dtype=float32)},\n",
       " {'predictions': array([1.9587436], dtype=float32)},\n",
       " {'predictions': array([1.8550401], dtype=float32)},\n",
       " {'predictions': array([2.0598176], dtype=float32)},\n",
       " {'predictions': array([2.356797], dtype=float32)},\n",
       " {'predictions': array([2.6453514], dtype=float32)},\n",
       " {'predictions': array([2.481994], dtype=float32)},\n",
       " {'predictions': array([1.4582107], dtype=float32)},\n",
       " {'predictions': array([2.2280004], dtype=float32)},\n",
       " {'predictions': array([2.824767], dtype=float32)},\n",
       " {'predictions': array([1.389829], dtype=float32)},\n",
       " {'predictions': array([1.528961], dtype=float32)},\n",
       " {'predictions': array([1.5860405], dtype=float32)},\n",
       " {'predictions': array([0.7744646], dtype=float32)},\n",
       " {'predictions': array([1.5892067], dtype=float32)},\n",
       " {'predictions': array([1.7829555], dtype=float32)},\n",
       " {'predictions': array([1.8605045], dtype=float32)},\n",
       " {'predictions': array([3.3036358], dtype=float32)},\n",
       " {'predictions': array([6.451639], dtype=float32)},\n",
       " {'predictions': array([2.727614], dtype=float32)},\n",
       " {'predictions': array([1.4741068], dtype=float32)},\n",
       " {'predictions': array([1.7270571], dtype=float32)},\n",
       " {'predictions': array([1.4211869], dtype=float32)},\n",
       " {'predictions': array([2.7127492], dtype=float32)},\n",
       " {'predictions': array([1.9057914], dtype=float32)},\n",
       " {'predictions': array([2.4051495], dtype=float32)},\n",
       " {'predictions': array([2.3869538], dtype=float32)},\n",
       " {'predictions': array([1.2845109], dtype=float32)},\n",
       " {'predictions': array([1.5600109], dtype=float32)},\n",
       " {'predictions': array([1.865281], dtype=float32)},\n",
       " {'predictions': array([1.7327507], dtype=float32)},\n",
       " {'predictions': array([3.9008238], dtype=float32)},\n",
       " {'predictions': array([1.4697883], dtype=float32)},\n",
       " {'predictions': array([3.291285], dtype=float32)},\n",
       " {'predictions': array([1.4122208], dtype=float32)},\n",
       " {'predictions': array([1.3044518], dtype=float32)},\n",
       " {'predictions': array([1.6057575], dtype=float32)},\n",
       " {'predictions': array([1.243895], dtype=float32)},\n",
       " {'predictions': array([1.6986185], dtype=float32)},\n",
       " {'predictions': array([2.3868363], dtype=float32)},\n",
       " {'predictions': array([1.5610114], dtype=float32)},\n",
       " {'predictions': array([1.8187959], dtype=float32)},\n",
       " {'predictions': array([3.0645738], dtype=float32)},\n",
       " {'predictions': array([1.987711], dtype=float32)},\n",
       " {'predictions': array([2.9184327], dtype=float32)},\n",
       " {'predictions': array([1.0099615], dtype=float32)},\n",
       " {'predictions': array([1.0871665], dtype=float32)},\n",
       " {'predictions': array([2.9119987], dtype=float32)},\n",
       " {'predictions': array([1.9495273], dtype=float32)},\n",
       " {'predictions': array([3.8853314], dtype=float32)},\n",
       " {'predictions': array([1.1574676], dtype=float32)},\n",
       " {'predictions': array([1.0973395], dtype=float32)},\n",
       " {'predictions': array([2.4267552], dtype=float32)},\n",
       " {'predictions': array([1.8150305], dtype=float32)},\n",
       " {'predictions': array([1.6756535], dtype=float32)},\n",
       " {'predictions': array([1.5926806], dtype=float32)},\n",
       " {'predictions': array([2.540914], dtype=float32)},\n",
       " {'predictions': array([2.8916922], dtype=float32)},\n",
       " {'predictions': array([2.1307285], dtype=float32)},\n",
       " {'predictions': array([2.9082468], dtype=float32)},\n",
       " {'predictions': array([3.2268975], dtype=float32)},\n",
       " {'predictions': array([1.0812185], dtype=float32)},\n",
       " {'predictions': array([1.2621806], dtype=float32)},\n",
       " {'predictions': array([1.3991344], dtype=float32)},\n",
       " {'predictions': array([1.4445295], dtype=float32)},\n",
       " {'predictions': array([2.288832], dtype=float32)},\n",
       " {'predictions': array([1.3240516], dtype=float32)},\n",
       " {'predictions': array([3.3843145], dtype=float32)},\n",
       " {'predictions': array([3.3591902], dtype=float32)},\n",
       " {'predictions': array([1.8972361], dtype=float32)},\n",
       " {'predictions': array([2.5190086], dtype=float32)},\n",
       " {'predictions': array([1.0994862], dtype=float32)},\n",
       " {'predictions': array([1.1915653], dtype=float32)},\n",
       " {'predictions': array([1.799265], dtype=float32)},\n",
       " {'predictions': array([1.3362371], dtype=float32)},\n",
       " {'predictions': array([3.9418013], dtype=float32)},\n",
       " {'predictions': array([2.0507114], dtype=float32)},\n",
       " {'predictions': array([2.1014829], dtype=float32)},\n",
       " {'predictions': array([2.961354], dtype=float32)},\n",
       " {'predictions': array([1.4948679], dtype=float32)},\n",
       " {'predictions': array([1.8608102], dtype=float32)},\n",
       " {'predictions': array([1.4115939], dtype=float32)},\n",
       " {'predictions': array([1.4115808], dtype=float32)},\n",
       " {'predictions': array([2.3038392], dtype=float32)},\n",
       " {'predictions': array([1.5827478], dtype=float32)},\n",
       " {'predictions': array([4.897848], dtype=float32)},\n",
       " {'predictions': array([1.5223145], dtype=float32)},\n",
       " {'predictions': array([1.898399], dtype=float32)},\n",
       " {'predictions': array([4.040859], dtype=float32)},\n",
       " {'predictions': array([2.8773754], dtype=float32)},\n",
       " {'predictions': array([2.4280126], dtype=float32)},\n",
       " {'predictions': array([2.3520248], dtype=float32)},\n",
       " {'predictions': array([1.7825528], dtype=float32)},\n",
       " {'predictions': array([0.74331343], dtype=float32)},\n",
       " {'predictions': array([0.9175786], dtype=float32)},\n",
       " {'predictions': array([2.5755785], dtype=float32)},\n",
       " {'predictions': array([1.3607389], dtype=float32)},\n",
       " {'predictions': array([1.6409576], dtype=float32)},\n",
       " {'predictions': array([5.236093], dtype=float32)},\n",
       " {'predictions': array([3.045217], dtype=float32)},\n",
       " {'predictions': array([3.0295596], dtype=float32)},\n",
       " {'predictions': array([1.668217], dtype=float32)},\n",
       " {'predictions': array([1.7039518], dtype=float32)},\n",
       " {'predictions': array([1.5169522], dtype=float32)},\n",
       " {'predictions': array([1.2624438], dtype=float32)},\n",
       " {'predictions': array([1.963171], dtype=float32)},\n",
       " {'predictions': array([1.5697559], dtype=float32)},\n",
       " {'predictions': array([1.1164864], dtype=float32)},\n",
       " {'predictions': array([2.2369308], dtype=float32)},\n",
       " {'predictions': array([2.8222291], dtype=float32)},\n",
       " {'predictions': array([2.6033516], dtype=float32)},\n",
       " {'predictions': array([1.5421468], dtype=float32)},\n",
       " {'predictions': array([0.86918664], dtype=float32)},\n",
       " {'predictions': array([3.0245879], dtype=float32)},\n",
       " {'predictions': array([1.2731142], dtype=float32)},\n",
       " {'predictions': array([2.4764159], dtype=float32)},\n",
       " {'predictions': array([2.4974468], dtype=float32)},\n",
       " {'predictions': array([2.764291], dtype=float32)},\n",
       " {'predictions': array([1.859683], dtype=float32)},\n",
       " {'predictions': array([1.3479277], dtype=float32)},\n",
       " {'predictions': array([2.8828557], dtype=float32)},\n",
       " {'predictions': array([1.3963871], dtype=float32)},\n",
       " {'predictions': array([1.3801247], dtype=float32)},\n",
       " {'predictions': array([3.971491], dtype=float32)},\n",
       " {'predictions': array([4.585299], dtype=float32)},\n",
       " {'predictions': array([1.8192939], dtype=float32)},\n",
       " {'predictions': array([2.907348], dtype=float32)},\n",
       " {'predictions': array([1.6596065], dtype=float32)},\n",
       " {'predictions': array([1.5301899], dtype=float32)},\n",
       " {'predictions': array([1.8565278], dtype=float32)},\n",
       " {'predictions': array([1.5511659], dtype=float32)},\n",
       " {'predictions': array([0.8311274], dtype=float32)},\n",
       " {'predictions': array([2.5553305], dtype=float32)},\n",
       " {'predictions': array([3.0129163], dtype=float32)},\n",
       " {'predictions': array([2.6192303], dtype=float32)},\n",
       " {'predictions': array([2.711105], dtype=float32)},\n",
       " {'predictions': array([2.0674524], dtype=float32)},\n",
       " {'predictions': array([1.2611216], dtype=float32)},\n",
       " {'predictions': array([2.301944], dtype=float32)},\n",
       " {'predictions': array([1.9709105], dtype=float32)},\n",
       " {'predictions': array([2.0385594], dtype=float32)},\n",
       " {'predictions': array([0.89255524], dtype=float32)},\n",
       " {'predictions': array([2.3218496], dtype=float32)},\n",
       " {'predictions': array([1.698883], dtype=float32)},\n",
       " {'predictions': array([1.9233763], dtype=float32)},\n",
       " {'predictions': array([1.167484], dtype=float32)},\n",
       " {'predictions': array([1.420978], dtype=float32)},\n",
       " {'predictions': array([2.675748], dtype=float32)},\n",
       " {'predictions': array([2.005885], dtype=float32)},\n",
       " {'predictions': array([4.239747], dtype=float32)},\n",
       " {'predictions': array([2.2703998], dtype=float32)},\n",
       " {'predictions': array([1.4536492], dtype=float32)},\n",
       " {'predictions': array([3.0826566], dtype=float32)},\n",
       " {'predictions': array([1.5052507], dtype=float32)},\n",
       " {'predictions': array([2.1217377], dtype=float32)},\n",
       " {'predictions': array([3.3143167], dtype=float32)},\n",
       " {'predictions': array([1.2986519], dtype=float32)},\n",
       " {'predictions': array([6.11009], dtype=float32)},\n",
       " {'predictions': array([2.1997738], dtype=float32)},\n",
       " {'predictions': array([1.9574857], dtype=float32)},\n",
       " {'predictions': array([1.9394788], dtype=float32)},\n",
       " {'predictions': array([0.8500918], dtype=float32)},\n",
       " {'predictions': array([1.1627591], dtype=float32)},\n",
       " {'predictions': array([2.5949564], dtype=float32)},\n",
       " {'predictions': array([1.6101434], dtype=float32)},\n",
       " {'predictions': array([1.324526], dtype=float32)},\n",
       " {'predictions': array([2.6750078], dtype=float32)},\n",
       " {'predictions': array([1.7672266], dtype=float32)},\n",
       " {'predictions': array([1.836946], dtype=float32)},\n",
       " {'predictions': array([1.4457076], dtype=float32)},\n",
       " {'predictions': array([1.9580752], dtype=float32)},\n",
       " {'predictions': array([1.92583], dtype=float32)},\n",
       " {'predictions': array([3.9305313], dtype=float32)},\n",
       " {'predictions': array([3.3716621], dtype=float32)},\n",
       " {'predictions': array([1.9114522], dtype=float32)},\n",
       " {'predictions': array([3.3556852], dtype=float32)},\n",
       " {'predictions': array([4.244927], dtype=float32)},\n",
       " {'predictions': array([2.1357083], dtype=float32)},\n",
       " {'predictions': array([1.3975862], dtype=float32)},\n",
       " {'predictions': array([1.6989982], dtype=float32)},\n",
       " {'predictions': array([1.2889957], dtype=float32)},\n",
       " {'predictions': array([1.790421], dtype=float32)},\n",
       " {'predictions': array([1.1053382], dtype=float32)},\n",
       " {'predictions': array([2.1541255], dtype=float32)},\n",
       " {'predictions': array([1.2836106], dtype=float32)},\n",
       " {'predictions': array([2.6071036], dtype=float32)},\n",
       " {'predictions': array([2.3304722], dtype=float32)},\n",
       " {'predictions': array([1.0688614], dtype=float32)},\n",
       " {'predictions': array([1.3745042], dtype=float32)},\n",
       " {'predictions': array([3.7436998], dtype=float32)},\n",
       " {'predictions': array([1.5747135], dtype=float32)},\n",
       " {'predictions': array([1.703833], dtype=float32)},\n",
       " {'predictions': array([4.1142287], dtype=float32)},\n",
       " {'predictions': array([1.2556189], dtype=float32)},\n",
       " {'predictions': array([1.146658], dtype=float32)},\n",
       " {'predictions': array([3.5336642], dtype=float32)},\n",
       " {'predictions': array([1.897195], dtype=float32)},\n",
       " {'predictions': array([1.6158555], dtype=float32)},\n",
       " {'predictions': array([1.0582842], dtype=float32)},\n",
       " {'predictions': array([2.1885176], dtype=float32)},\n",
       " {'predictions': array([2.4296632], dtype=float32)},\n",
       " {'predictions': array([6.2481403], dtype=float32)},\n",
       " {'predictions': array([1.9241455], dtype=float32)},\n",
       " {'predictions': array([1.4192216], dtype=float32)},\n",
       " {'predictions': array([1.6431038], dtype=float32)},\n",
       " {'predictions': array([2.4120536], dtype=float32)},\n",
       " {'predictions': array([3.4177437], dtype=float32)},\n",
       " {'predictions': array([2.3889792], dtype=float32)},\n",
       " {'predictions': array([2.6761372], dtype=float32)},\n",
       " {'predictions': array([1.4745457], dtype=float32)},\n",
       " {'predictions': array([4.589707], dtype=float32)},\n",
       " {'predictions': array([2.5796177], dtype=float32)},\n",
       " {'predictions': array([1.6381859], dtype=float32)},\n",
       " {'predictions': array([2.3971758], dtype=float32)},\n",
       " {'predictions': array([1.1099705], dtype=float32)},\n",
       " {'predictions': array([1.4595228], dtype=float32)},\n",
       " {'predictions': array([1.9046257], dtype=float32)},\n",
       " {'predictions': array([1.6218303], dtype=float32)},\n",
       " {'predictions': array([1.4713483], dtype=float32)},\n",
       " {'predictions': array([2.879531], dtype=float32)},\n",
       " {'predictions': array([1.7774866], dtype=float32)},\n",
       " {'predictions': array([1.5454047], dtype=float32)},\n",
       " {'predictions': array([3.09553], dtype=float32)},\n",
       " {'predictions': array([1.0441027], dtype=float32)},\n",
       " {'predictions': array([1.0043223], dtype=float32)},\n",
       " {'predictions': array([1.0220994], dtype=float32)},\n",
       " {'predictions': array([4.0876584], dtype=float32)},\n",
       " {'predictions': array([2.9226995], dtype=float32)},\n",
       " {'predictions': array([1.3555758], dtype=float32)},\n",
       " {'predictions': array([0.98652196], dtype=float32)},\n",
       " {'predictions': array([2.554125], dtype=float32)},\n",
       " {'predictions': array([1.7723156], dtype=float32)},\n",
       " {'predictions': array([1.4511997], dtype=float32)},\n",
       " {'predictions': array([3.2450433], dtype=float32)},\n",
       " {'predictions': array([3.0031545], dtype=float32)},\n",
       " {'predictions': array([5.30318], dtype=float32)},\n",
       " {'predictions': array([1.7777575], dtype=float32)},\n",
       " {'predictions': array([0.99308276], dtype=float32)},\n",
       " {'predictions': array([2.1058457], dtype=float32)},\n",
       " {'predictions': array([1.2175366], dtype=float32)},\n",
       " {'predictions': array([1.1545902], dtype=float32)},\n",
       " {'predictions': array([2.4315462], dtype=float32)},\n",
       " {'predictions': array([1.6843275], dtype=float32)},\n",
       " {'predictions': array([1.2135282], dtype=float32)},\n",
       " {'predictions': array([2.2477431], dtype=float32)},\n",
       " {'predictions': array([2.8626795], dtype=float32)},\n",
       " {'predictions': array([1.8034399], dtype=float32)},\n",
       " {'predictions': array([3.7115517], dtype=float32)},\n",
       " {'predictions': array([2.611932], dtype=float32)},\n",
       " {'predictions': array([2.1208684], dtype=float32)},\n",
       " {'predictions': array([1.7291725], dtype=float32)},\n",
       " {'predictions': array([1.9359665], dtype=float32)},\n",
       " {'predictions': array([2.3173404], dtype=float32)},\n",
       " {'predictions': array([2.0700622], dtype=float32)},\n",
       " {'predictions': array([4.1066628], dtype=float32)},\n",
       " {'predictions': array([2.3373077], dtype=float32)},\n",
       " {'predictions': array([2.4067914], dtype=float32)},\n",
       " {'predictions': array([1.6919534], dtype=float32)},\n",
       " {'predictions': array([1.0281975], dtype=float32)},\n",
       " {'predictions': array([0.85969687], dtype=float32)},\n",
       " {'predictions': array([1.4409811], dtype=float32)},\n",
       " {'predictions': array([2.168366], dtype=float32)},\n",
       " {'predictions': array([2.9214518], dtype=float32)},\n",
       " {'predictions': array([2.106425], dtype=float32)},\n",
       " {'predictions': array([2.13646], dtype=float32)},\n",
       " {'predictions': array([1.4958012], dtype=float32)},\n",
       " {'predictions': array([1.9499104], dtype=float32)},\n",
       " {'predictions': array([3.2115066], dtype=float32)},\n",
       " {'predictions': array([5.016784], dtype=float32)},\n",
       " {'predictions': array([2.390158], dtype=float32)},\n",
       " {'predictions': array([1.6751273], dtype=float32)},\n",
       " {'predictions': array([1.701144], dtype=float32)},\n",
       " {'predictions': array([1.9724228], dtype=float32)},\n",
       " {'predictions': array([1.2134635], dtype=float32)},\n",
       " {'predictions': array([1.8443522], dtype=float32)},\n",
       " {'predictions': array([1.2108787], dtype=float32)},\n",
       " {'predictions': array([1.7500395], dtype=float32)},\n",
       " {'predictions': array([2.417651], dtype=float32)},\n",
       " {'predictions': array([1.4485389], dtype=float32)},\n",
       " {'predictions': array([1.4002758], dtype=float32)},\n",
       " {'predictions': array([1.7491627], dtype=float32)},\n",
       " {'predictions': array([2.1651566], dtype=float32)},\n",
       " {'predictions': array([1.6312408], dtype=float32)},\n",
       " {'predictions': array([6.5615463], dtype=float32)},\n",
       " {'predictions': array([2.865289], dtype=float32)},\n",
       " {'predictions': array([2.3728476], dtype=float32)},\n",
       " {'predictions': array([1.5380043], dtype=float32)},\n",
       " {'predictions': array([2.3424559], dtype=float32)},\n",
       " {'predictions': array([2.192604], dtype=float32)},\n",
       " {'predictions': array([2.2859225], dtype=float32)},\n",
       " {'predictions': array([1.3827617], dtype=float32)},\n",
       " {'predictions': array([1.5589044], dtype=float32)},\n",
       " {'predictions': array([1.327773], dtype=float32)},\n",
       " {'predictions': array([4.3702397], dtype=float32)},\n",
       " {'predictions': array([2.1783438], dtype=float32)},\n",
       " {'predictions': array([1.1415431], dtype=float32)},\n",
       " {'predictions': array([1.8689147], dtype=float32)},\n",
       " {'predictions': array([1.7137839], dtype=float32)},\n",
       " {'predictions': array([4.8942003], dtype=float32)},\n",
       " {'predictions': array([2.549793], dtype=float32)},\n",
       " {'predictions': array([0.9349787], dtype=float32)},\n",
       " {'predictions': array([2.1234822], dtype=float32)},\n",
       " {'predictions': array([2.7577147], dtype=float32)},\n",
       " {'predictions': array([2.1425016], dtype=float32)},\n",
       " {'predictions': array([1.6394241], dtype=float32)},\n",
       " {'predictions': array([2.692391], dtype=float32)},\n",
       " {'predictions': array([1.9511474], dtype=float32)},\n",
       " {'predictions': array([1.3712797], dtype=float32)},\n",
       " {'predictions': array([1.7372842], dtype=float32)},\n",
       " {'predictions': array([2.5036504], dtype=float32)},\n",
       " {'predictions': array([1.277077], dtype=float32)},\n",
       " {'predictions': array([4.716326], dtype=float32)},\n",
       " {'predictions': array([2.3236988], dtype=float32)},\n",
       " {'predictions': array([2.0397913], dtype=float32)},\n",
       " {'predictions': array([2.4151018], dtype=float32)},\n",
       " {'predictions': array([1.8944992], dtype=float32)},\n",
       " {'predictions': array([1.3310332], dtype=float32)},\n",
       " {'predictions': array([1.5633987], dtype=float32)},\n",
       " {'predictions': array([1.5096736], dtype=float32)},\n",
       " {'predictions': array([2.9769595], dtype=float32)},\n",
       " {'predictions': array([1.6613541], dtype=float32)},\n",
       " {'predictions': array([1.7157212], dtype=float32)},\n",
       " {'predictions': array([3.190053], dtype=float32)},\n",
       " {'predictions': array([2.7621555], dtype=float32)},\n",
       " {'predictions': array([1.4255471], dtype=float32)},\n",
       " {'predictions': array([1.7807245], dtype=float32)},\n",
       " {'predictions': array([2.378772], dtype=float32)},\n",
       " {'predictions': array([2.1986063], dtype=float32)},\n",
       " {'predictions': array([1.7894204], dtype=float32)},\n",
       " {'predictions': array([2.560127], dtype=float32)},\n",
       " {'predictions': array([2.8504252], dtype=float32)},\n",
       " {'predictions': array([1.400666], dtype=float32)},\n",
       " {'predictions': array([1.440953], dtype=float32)},\n",
       " {'predictions': array([3.6312566], dtype=float32)},\n",
       " {'predictions': array([2.0217614], dtype=float32)},\n",
       " {'predictions': array([1.7823073], dtype=float32)},\n",
       " {'predictions': array([2.5510905], dtype=float32)},\n",
       " {'predictions': array([2.7399147], dtype=float32)},\n",
       " {'predictions': array([1.5479739], dtype=float32)},\n",
       " {'predictions': array([4.1095986], dtype=float32)},\n",
       " {'predictions': array([1.4804597], dtype=float32)},\n",
       " {'predictions': array([1.7946395], dtype=float32)},\n",
       " {'predictions': array([2.769896], dtype=float32)},\n",
       " {'predictions': array([1.8016261], dtype=float32)},\n",
       " {'predictions': array([2.583745], dtype=float32)},\n",
       " {'predictions': array([2.9067924], dtype=float32)},\n",
       " {'predictions': array([1.0157615], dtype=float32)},\n",
       " {'predictions': array([1.3160189], dtype=float32)},\n",
       " {'predictions': array([4.2434826], dtype=float32)},\n",
       " {'predictions': array([2.0800304], dtype=float32)},\n",
       " {'predictions': array([1.1328827], dtype=float32)},\n",
       " {'predictions': array([1.7746009], dtype=float32)},\n",
       " {'predictions': array([2.0723376], dtype=float32)},\n",
       " {'predictions': array([1.271422], dtype=float32)},\n",
       " {'predictions': array([2.2889194], dtype=float32)},\n",
       " {'predictions': array([1.2072021], dtype=float32)},\n",
       " {'predictions': array([1.1049806], dtype=float32)},\n",
       " {'predictions': array([2.2605293], dtype=float32)},\n",
       " {'predictions': array([2.154936], dtype=float32)},\n",
       " {'predictions': array([1.5044353], dtype=float32)},\n",
       " {'predictions': array([1.5420961], dtype=float32)},\n",
       " {'predictions': array([2.5066936], dtype=float32)},\n",
       " {'predictions': array([1.6905098], dtype=float32)},\n",
       " {'predictions': array([1.3161249], dtype=float32)},\n",
       " {'predictions': array([1.0035522], dtype=float32)},\n",
       " {'predictions': array([1.5453284], dtype=float32)},\n",
       " {'predictions': array([0.8818288], dtype=float32)},\n",
       " {'predictions': array([2.4108276], dtype=float32)},\n",
       " {'predictions': array([1.8301644], dtype=float32)},\n",
       " {'predictions': array([1.8012941], dtype=float32)},\n",
       " {'predictions': array([1.8980514], dtype=float32)},\n",
       " {'predictions': array([1.8407834], dtype=float32)},\n",
       " {'predictions': array([1.7509679], dtype=float32)},\n",
       " {'predictions': array([1.6167625], dtype=float32)},\n",
       " {'predictions': array([2.8270686], dtype=float32)},\n",
       " {'predictions': array([1.511198], dtype=float32)},\n",
       " {'predictions': array([1.6726906], dtype=float32)},\n",
       " {'predictions': array([1.674765], dtype=float32)},\n",
       " {'predictions': array([1.4302377], dtype=float32)},\n",
       " {'predictions': array([2.015694], dtype=float32)},\n",
       " {'predictions': array([1.1064475], dtype=float32)},\n",
       " {'predictions': array([2.1056712], dtype=float32)},\n",
       " {'predictions': array([1.020011], dtype=float32)},\n",
       " {'predictions': array([2.954721], dtype=float32)},\n",
       " {'predictions': array([3.1342342], dtype=float32)},\n",
       " {'predictions': array([1.776396], dtype=float32)},\n",
       " {'predictions': array([2.7359633], dtype=float32)},\n",
       " {'predictions': array([2.0662324], dtype=float32)},\n",
       " {'predictions': array([2.9687493], dtype=float32)},\n",
       " {'predictions': array([2.2388206], dtype=float32)},\n",
       " {'predictions': array([1.0377213], dtype=float32)},\n",
       " {'predictions': array([2.161437], dtype=float32)},\n",
       " {'predictions': array([3.0891623], dtype=float32)},\n",
       " {'predictions': array([1.5766284], dtype=float32)},\n",
       " {'predictions': array([3.3429308], dtype=float32)},\n",
       " {'predictions': array([2.8183186], dtype=float32)},\n",
       " {'predictions': array([1.5952199], dtype=float32)},\n",
       " {'predictions': array([1.7388872], dtype=float32)},\n",
       " {'predictions': array([2.443575], dtype=float32)},\n",
       " {'predictions': array([3.446814], dtype=float32)},\n",
       " {'predictions': array([3.9504933], dtype=float32)},\n",
       " {'predictions': array([1.9523978], dtype=float32)},\n",
       " {'predictions': array([3.4634807], dtype=float32)},\n",
       " {'predictions': array([1.5576599], dtype=float32)},\n",
       " {'predictions': array([1.7276858], dtype=float32)},\n",
       " {'predictions': array([1.1031915], dtype=float32)},\n",
       " {'predictions': array([1.6091474], dtype=float32)},\n",
       " {'predictions': array([2.4703279], dtype=float32)},\n",
       " {'predictions': array([2.2613332], dtype=float32)},\n",
       " {'predictions': array([2.9036975], dtype=float32)},\n",
       " {'predictions': array([1.4854261], dtype=float32)},\n",
       " {'predictions': array([1.3162711], dtype=float32)},\n",
       " {'predictions': array([2.443279], dtype=float32)},\n",
       " {'predictions': array([1.4885185], dtype=float32)},\n",
       " {'predictions': array([1.203159], dtype=float32)},\n",
       " {'predictions': array([0.7934387], dtype=float32)},\n",
       " {'predictions': array([1.3921053], dtype=float32)},\n",
       " {'predictions': array([1.5649315], dtype=float32)},\n",
       " {'predictions': array([1.5613425], dtype=float32)},\n",
       " {'predictions': array([1.7783263], dtype=float32)},\n",
       " {'predictions': array([1.4853556], dtype=float32)},\n",
       " {'predictions': array([2.149429], dtype=float32)},\n",
       " {'predictions': array([1.9781151], dtype=float32)},\n",
       " {'predictions': array([2.996868], dtype=float32)},\n",
       " {'predictions': array([1.2590218], dtype=float32)},\n",
       " {'predictions': array([2.0847032], dtype=float32)},\n",
       " {'predictions': array([1.0062715], dtype=float32)},\n",
       " {'predictions': array([2.965344], dtype=float32)},\n",
       " {'predictions': array([3.1165469], dtype=float32)},\n",
       " {'predictions': array([3.042528], dtype=float32)},\n",
       " {'predictions': array([2.041908], dtype=float32)},\n",
       " {'predictions': array([1.9366426], dtype=float32)},\n",
       " {'predictions': array([3.8491218], dtype=float32)},\n",
       " {'predictions': array([2.2232308], dtype=float32)},\n",
       " {'predictions': array([5.232369], dtype=float32)},\n",
       " {'predictions': array([2.9575853], dtype=float32)},\n",
       " {'predictions': array([1.5510672], dtype=float32)},\n",
       " {'predictions': array([1.4968076], dtype=float32)},\n",
       " {'predictions': array([2.7563443], dtype=float32)},\n",
       " {'predictions': array([1.8801486], dtype=float32)},\n",
       " {'predictions': array([1.2652334], dtype=float32)},\n",
       " {'predictions': array([1.8322512], dtype=float32)},\n",
       " {'predictions': array([2.0399454], dtype=float32)},\n",
       " {'predictions': array([1.3816459], dtype=float32)},\n",
       " {'predictions': array([1.7759374], dtype=float32)},\n",
       " {'predictions': array([1.8194869], dtype=float32)},\n",
       " {'predictions': array([1.3026896], dtype=float32)},\n",
       " {'predictions': array([2.4177787], dtype=float32)},\n",
       " {'predictions': array([3.0102434], dtype=float32)},\n",
       " {'predictions': array([2.4748776], dtype=float32)},\n",
       " {'predictions': array([2.295646], dtype=float32)},\n",
       " {'predictions': array([1.3141137], dtype=float32)},\n",
       " {'predictions': array([3.8785415], dtype=float32)},\n",
       " {'predictions': array([3.3132741], dtype=float32)},\n",
       " {'predictions': array([2.4440718], dtype=float32)},\n",
       " {'predictions': array([2.696899], dtype=float32)},\n",
       " {'predictions': array([1.7284946], dtype=float32)},\n",
       " {'predictions': array([3.5994928], dtype=float32)},\n",
       " {'predictions': array([1.1541655], dtype=float32)},\n",
       " {'predictions': array([1.8591735], dtype=float32)},\n",
       " {'predictions': array([1.9554648], dtype=float32)},\n",
       " {'predictions': array([1.2776846], dtype=float32)},\n",
       " {'predictions': array([1.869033], dtype=float32)},\n",
       " {'predictions': array([1.410472], dtype=float32)},\n",
       " {'predictions': array([2.1922936], dtype=float32)},\n",
       " {'predictions': array([1.2214794], dtype=float32)},\n",
       " {'predictions': array([2.3837557], dtype=float32)},\n",
       " {'predictions': array([3.2137442], dtype=float32)},\n",
       " {'predictions': array([4.299426], dtype=float32)},\n",
       " {'predictions': array([4.565606], dtype=float32)},\n",
       " {'predictions': array([1.2912672], dtype=float32)},\n",
       " {'predictions': array([1.5436902], dtype=float32)},\n",
       " {'predictions': array([3.861875], dtype=float32)},\n",
       " {'predictions': array([1.7143735], dtype=float32)},\n",
       " {'predictions': array([1.5727], dtype=float32)},\n",
       " {'predictions': array([1.4236276], dtype=float32)},\n",
       " {'predictions': array([2.439625], dtype=float32)},\n",
       " {'predictions': array([1.4337703], dtype=float32)},\n",
       " {'predictions': array([1.4672625], dtype=float32)},\n",
       " {'predictions': array([1.7438816], dtype=float32)},\n",
       " {'predictions': array([1.6666894], dtype=float32)},\n",
       " {'predictions': array([1.0353512], dtype=float32)},\n",
       " {'predictions': array([3.1263025], dtype=float32)},\n",
       " {'predictions': array([2.290976], dtype=float32)},\n",
       " {'predictions': array([1.5244126], dtype=float32)},\n",
       " {'predictions': array([1.2883375], dtype=float32)},\n",
       " {'predictions': array([4.047458], dtype=float32)},\n",
       " {'predictions': array([1.8199375], dtype=float32)},\n",
       " {'predictions': array([3.047353], dtype=float32)},\n",
       " {'predictions': array([2.6363995], dtype=float32)},\n",
       " {'predictions': array([1.4033682], dtype=float32)},\n",
       " {'predictions': array([0.981091], dtype=float32)},\n",
       " {'predictions': array([3.012656], dtype=float32)},\n",
       " {'predictions': array([1.9592015], dtype=float32)},\n",
       " {'predictions': array([2.0571349], dtype=float32)},\n",
       " {'predictions': array([2.0244129], dtype=float32)},\n",
       " {'predictions': array([1.3083237], dtype=float32)},\n",
       " {'predictions': array([1.9760195], dtype=float32)},\n",
       " {'predictions': array([1.4031835], dtype=float32)},\n",
       " {'predictions': array([1.2231894], dtype=float32)},\n",
       " {'predictions': array([2.9562304], dtype=float32)},\n",
       " {'predictions': array([2.5871198], dtype=float32)},\n",
       " {'predictions': array([2.5325718], dtype=float32)},\n",
       " {'predictions': array([2.403257], dtype=float32)},\n",
       " {'predictions': array([2.2744422], dtype=float32)},\n",
       " {'predictions': array([1.5574328], dtype=float32)},\n",
       " {'predictions': array([1.2458439], dtype=float32)},\n",
       " {'predictions': array([3.2139163], dtype=float32)},\n",
       " {'predictions': array([1.908293], dtype=float32)},\n",
       " {'predictions': array([2.110786], dtype=float32)},\n",
       " {'predictions': array([2.2039216], dtype=float32)},\n",
       " {'predictions': array([6.453129], dtype=float32)},\n",
       " {'predictions': array([1.8038225], dtype=float32)},\n",
       " {'predictions': array([2.6222718], dtype=float32)},\n",
       " {'predictions': array([2.483969], dtype=float32)},\n",
       " {'predictions': array([4.3958015], dtype=float32)},\n",
       " {'predictions': array([3.3034885], dtype=float32)},\n",
       " {'predictions': array([3.0658743], dtype=float32)},\n",
       " {'predictions': array([2.062738], dtype=float32)},\n",
       " {'predictions': array([0.75776887], dtype=float32)},\n",
       " {'predictions': array([1.5698009], dtype=float32)},\n",
       " {'predictions': array([1.2804241], dtype=float32)},\n",
       " {'predictions': array([3.1338801], dtype=float32)},\n",
       " {'predictions': array([2.302472], dtype=float32)},\n",
       " {'predictions': array([2.568259], dtype=float32)},\n",
       " {'predictions': array([1.5053277], dtype=float32)},\n",
       " {'predictions': array([1.3670549], dtype=float32)},\n",
       " {'predictions': array([2.5488853], dtype=float32)},\n",
       " {'predictions': array([1.8275781], dtype=float32)},\n",
       " {'predictions': array([2.4352448], dtype=float32)},\n",
       " {'predictions': array([1.8062718], dtype=float32)},\n",
       " {'predictions': array([2.6601305], dtype=float32)},\n",
       " {'predictions': array([2.6086335], dtype=float32)},\n",
       " {'predictions': array([1.4295425], dtype=float32)},\n",
       " {'predictions': array([1.5823379], dtype=float32)},\n",
       " {'predictions': array([2.7513938], dtype=float32)},\n",
       " {'predictions': array([2.0973248], dtype=float32)},\n",
       " {'predictions': array([1.1740193], dtype=float32)},\n",
       " {'predictions': array([1.319968], dtype=float32)},\n",
       " {'predictions': array([1.3943303], dtype=float32)},\n",
       " {'predictions': array([1.2728261], dtype=float32)},\n",
       " {'predictions': array([1.148678], dtype=float32)},\n",
       " {'predictions': array([1.9109533], dtype=float32)},\n",
       " {'predictions': array([1.5687296], dtype=float32)},\n",
       " {'predictions': array([1.4007877], dtype=float32)},\n",
       " {'predictions': array([1.8316231], dtype=float32)},\n",
       " {'predictions': array([1.3997982], dtype=float32)},\n",
       " {'predictions': array([1.6668109], dtype=float32)},\n",
       " {'predictions': array([2.2231605], dtype=float32)},\n",
       " {'predictions': array([3.386312], dtype=float32)},\n",
       " {'predictions': array([1.5634341], dtype=float32)},\n",
       " {'predictions': array([2.1115787], dtype=float32)},\n",
       " {'predictions': array([1.8545753], dtype=float32)},\n",
       " {'predictions': array([0.9637408], dtype=float32)},\n",
       " {'predictions': array([1.8967904], dtype=float32)},\n",
       " {'predictions': array([1.3442929], dtype=float32)},\n",
       " {'predictions': array([2.6540716], dtype=float32)},\n",
       " {'predictions': array([1.9886053], dtype=float32)},\n",
       " {'predictions': array([1.7043897], dtype=float32)},\n",
       " {'predictions': array([4.661921], dtype=float32)},\n",
       " {'predictions': array([1.7243426], dtype=float32)},\n",
       " {'predictions': array([1.6388099], dtype=float32)},\n",
       " {'predictions': array([2.7456245], dtype=float32)},\n",
       " {'predictions': array([1.382144], dtype=float32)},\n",
       " {'predictions': array([1.4085733], dtype=float32)},\n",
       " {'predictions': array([3.5647244], dtype=float32)},\n",
       " {'predictions': array([4.6009383], dtype=float32)},\n",
       " {'predictions': array([1.4344151], dtype=float32)},\n",
       " {'predictions': array([1.2380246], dtype=float32)},\n",
       " {'predictions': array([1.8382086], dtype=float32)},\n",
       " {'predictions': array([2.9833002], dtype=float32)},\n",
       " {'predictions': array([3.0565765], dtype=float32)},\n",
       " {'predictions': array([3.0274258], dtype=float32)},\n",
       " {'predictions': array([3.4861035], dtype=float32)},\n",
       " {'predictions': array([2.6638675], dtype=float32)},\n",
       " {'predictions': array([2.1582658], dtype=float32)},\n",
       " {'predictions': array([0.991361], dtype=float32)},\n",
       " {'predictions': array([1.1654543], dtype=float32)},\n",
       " {'predictions': array([1.8278077], dtype=float32)},\n",
       " {'predictions': array([2.0920925], dtype=float32)},\n",
       " {'predictions': array([2.018555], dtype=float32)},\n",
       " {'predictions': array([2.4838886], dtype=float32)},\n",
       " {'predictions': array([1.1915587], dtype=float32)},\n",
       " {'predictions': array([1.2429897], dtype=float32)},\n",
       " {'predictions': array([1.2379708], dtype=float32)},\n",
       " {'predictions': array([1.335895], dtype=float32)},\n",
       " {'predictions': array([2.6627555], dtype=float32)},\n",
       " {'predictions': array([1.7872229], dtype=float32)},\n",
       " {'predictions': array([2.0401855], dtype=float32)},\n",
       " {'predictions': array([2.2251146], dtype=float32)},\n",
       " {'predictions': array([1.4722173], dtype=float32)},\n",
       " {'predictions': array([1.6651253], dtype=float32)},\n",
       " {'predictions': array([3.608786], dtype=float32)},\n",
       " {'predictions': array([1.9832573], dtype=float32)},\n",
       " {'predictions': array([1.6916432], dtype=float32)},\n",
       " {'predictions': array([1.6148326], dtype=float32)},\n",
       " {'predictions': array([2.8986027], dtype=float32)},\n",
       " {'predictions': array([2.685504], dtype=float32)},\n",
       " {'predictions': array([2.3366263], dtype=float32)},\n",
       " {'predictions': array([3.6964307], dtype=float32)},\n",
       " {'predictions': array([1.9959106], dtype=float32)},\n",
       " {'predictions': array([1.320073], dtype=float32)},\n",
       " {'predictions': array([2.1341271], dtype=float32)},\n",
       " {'predictions': array([2.3025718], dtype=float32)},\n",
       " {'predictions': array([1.6589549], dtype=float32)},\n",
       " {'predictions': array([3.1750722], dtype=float32)},\n",
       " {'predictions': array([1.5170333], dtype=float32)},\n",
       " {'predictions': array([3.5913246], dtype=float32)},\n",
       " {'predictions': array([2.1409094], dtype=float32)},\n",
       " {'predictions': array([1.6007366], dtype=float32)},\n",
       " {'predictions': array([2.789868], dtype=float32)},\n",
       " {'predictions': array([2.4129767], dtype=float32)},\n",
       " {'predictions': array([1.3727971], dtype=float32)},\n",
       " {'predictions': array([1.8193716], dtype=float32)},\n",
       " {'predictions': array([1.2206479], dtype=float32)},\n",
       " {'predictions': array([1.5634129], dtype=float32)},\n",
       " {'predictions': array([2.2531333], dtype=float32)},\n",
       " {'predictions': array([2.1575737], dtype=float32)},\n",
       " {'predictions': array([1.4818332], dtype=float32)},\n",
       " {'predictions': array([1.5791839], dtype=float32)},\n",
       " {'predictions': array([2.113783], dtype=float32)},\n",
       " {'predictions': array([4.229851], dtype=float32)},\n",
       " {'predictions': array([1.5686278], dtype=float32)},\n",
       " {'predictions': array([2.2385547], dtype=float32)},\n",
       " {'predictions': array([1.3411386], dtype=float32)},\n",
       " {'predictions': array([1.7355806], dtype=float32)},\n",
       " {'predictions': array([2.0711875], dtype=float32)},\n",
       " {'predictions': array([1.9598324], dtype=float32)},\n",
       " {'predictions': array([1.9821951], dtype=float32)},\n",
       " {'predictions': array([1.1117318], dtype=float32)},\n",
       " {'predictions': array([3.7400587], dtype=float32)},\n",
       " {'predictions': array([2.2872412], dtype=float32)},\n",
       " {'predictions': array([1.716265], dtype=float32)},\n",
       " {'predictions': array([1.7917523], dtype=float32)},\n",
       " {'predictions': array([1.7560577], dtype=float32)},\n",
       " {'predictions': array([2.9325309], dtype=float32)},\n",
       " {'predictions': array([1.5366575], dtype=float32)},\n",
       " {'predictions': array([1.1143008], dtype=float32)},\n",
       " {'predictions': array([3.4337204], dtype=float32)},\n",
       " {'predictions': array([1.8461928], dtype=float32)},\n",
       " {'predictions': array([1.773964], dtype=float32)},\n",
       " {'predictions': array([3.4329062], dtype=float32)},\n",
       " {'predictions': array([3.5787535], dtype=float32)},\n",
       " {'predictions': array([1.7185726], dtype=float32)},\n",
       " {'predictions': array([1.6797249], dtype=float32)},\n",
       " {'predictions': array([1.8379669], dtype=float32)},\n",
       " {'predictions': array([1.4797045], dtype=float32)},\n",
       " {'predictions': array([1.6903386], dtype=float32)},\n",
       " {'predictions': array([1.6449374], dtype=float32)},\n",
       " {'predictions': array([2.8148131], dtype=float32)},\n",
       " {'predictions': array([3.0050063], dtype=float32)},\n",
       " {'predictions': array([3.152229], dtype=float32)},\n",
       " {'predictions': array([1.3870034], dtype=float32)},\n",
       " {'predictions': array([2.8382335], dtype=float32)},\n",
       " {'predictions': array([3.1722243], dtype=float32)},\n",
       " {'predictions': array([2.9297748], dtype=float32)},\n",
       " {'predictions': array([1.4463953], dtype=float32)},\n",
       " {'predictions': array([1.8184012], dtype=float32)},\n",
       " {'predictions': array([3.26391], dtype=float32)},\n",
       " {'predictions': array([1.425331], dtype=float32)},\n",
       " {'predictions': array([1.1891397], dtype=float32)},\n",
       " {'predictions': array([2.4678388], dtype=float32)},\n",
       " {'predictions': array([1.8470752], dtype=float32)},\n",
       " {'predictions': array([1.2624167], dtype=float32)},\n",
       " {'predictions': array([1.7974491], dtype=float32)},\n",
       " {'predictions': array([1.800951], dtype=float32)},\n",
       " {'predictions': array([1.9602], dtype=float32)},\n",
       " {'predictions': array([1.7311487], dtype=float32)},\n",
       " {'predictions': array([2.1322596], dtype=float32)},\n",
       " {'predictions': array([2.297775], dtype=float32)},\n",
       " {'predictions': array([2.4986792], dtype=float32)},\n",
       " {'predictions': array([1.367991], dtype=float32)},\n",
       " {'predictions': array([2.139848], dtype=float32)},\n",
       " {'predictions': array([2.3819976], dtype=float32)},\n",
       " {'predictions': array([0.8466928], dtype=float32)},\n",
       " {'predictions': array([1.2271087], dtype=float32)},\n",
       " {'predictions': array([2.124027], dtype=float32)},\n",
       " {'predictions': array([1.680002], dtype=float32)},\n",
       " {'predictions': array([1.4504473], dtype=float32)},\n",
       " {'predictions': array([1.9975053], dtype=float32)},\n",
       " {'predictions': array([1.4532539], dtype=float32)},\n",
       " {'predictions': array([4.2125053], dtype=float32)},\n",
       " {'predictions': array([2.326866], dtype=float32)},\n",
       " {'predictions': array([4.1825047], dtype=float32)},\n",
       " {'predictions': array([2.585765], dtype=float32)},\n",
       " {'predictions': array([2.6649675], dtype=float32)},\n",
       " {'predictions': array([1.7154907], dtype=float32)},\n",
       " {'predictions': array([1.1630374], dtype=float32)},\n",
       " {'predictions': array([1.7180886], dtype=float32)},\n",
       " {'predictions': array([2.6780767], dtype=float32)},\n",
       " {'predictions': array([1.8591981], dtype=float32)},\n",
       " {'predictions': array([2.317151], dtype=float32)},\n",
       " {'predictions': array([0.94587755], dtype=float32)},\n",
       " {'predictions': array([1.6987438], dtype=float32)},\n",
       " {'predictions': array([0.9126152], dtype=float32)},\n",
       " {'predictions': array([2.4167101], dtype=float32)},\n",
       " {'predictions': array([2.7358012], dtype=float32)},\n",
       " {'predictions': array([2.1807327], dtype=float32)},\n",
       " {'predictions': array([1.2596084], dtype=float32)},\n",
       " {'predictions': array([1.5403013], dtype=float32)},\n",
       " {'predictions': array([2.0080173], dtype=float32)},\n",
       " {'predictions': array([1.4756539], dtype=float32)},\n",
       " {'predictions': array([2.5704172], dtype=float32)},\n",
       " {'predictions': array([1.5050422], dtype=float32)},\n",
       " {'predictions': array([2.0648205], dtype=float32)},\n",
       " {'predictions': array([2.1890507], dtype=float32)},\n",
       " {'predictions': array([1.0373198], dtype=float32)},\n",
       " {'predictions': array([2.6495652], dtype=float32)},\n",
       " {'predictions': array([1.9895287], dtype=float32)},\n",
       " {'predictions': array([2.2487833], dtype=float32)},\n",
       " {'predictions': array([2.634576], dtype=float32)},\n",
       " {'predictions': array([2.261747], dtype=float32)},\n",
       " {'predictions': array([4.374264], dtype=float32)},\n",
       " {'predictions': array([3.7977135], dtype=float32)},\n",
       " {'predictions': array([1.9342623], dtype=float32)},\n",
       " {'predictions': array([1.9303613], dtype=float32)},\n",
       " {'predictions': array([1.4458134], dtype=float32)},\n",
       " {'predictions': array([1.3088548], dtype=float32)},\n",
       " {'predictions': array([1.7639558], dtype=float32)},\n",
       " {'predictions': array([1.834708], dtype=float32)},\n",
       " {'predictions': array([1.8780487], dtype=float32)},\n",
       " {'predictions': array([2.2820094], dtype=float32)},\n",
       " {'predictions': array([1.3183469], dtype=float32)},\n",
       " {'predictions': array([1.536333], dtype=float32)},\n",
       " {'predictions': array([4.6629124], dtype=float32)},\n",
       " {'predictions': array([1.568793], dtype=float32)},\n",
       " {'predictions': array([1.9067607], dtype=float32)},\n",
       " {'predictions': array([1.6211734], dtype=float32)},\n",
       " {'predictions': array([1.8765401], dtype=float32)},\n",
       " {'predictions': array([2.5164413], dtype=float32)},\n",
       " {'predictions': array([1.3656696], dtype=float32)},\n",
       " {'predictions': array([1.666964], dtype=float32)},\n",
       " {'predictions': array([1.5604304], dtype=float32)},\n",
       " {'predictions': array([1.0763549], dtype=float32)},\n",
       " {'predictions': array([1.8880075], dtype=float32)},\n",
       " {'predictions': array([1.5898917], dtype=float32)},\n",
       " {'predictions': array([3.1569984], dtype=float32)},\n",
       " {'predictions': array([1.2156484], dtype=float32)},\n",
       " {'predictions': array([2.080859], dtype=float32)},\n",
       " {'predictions': array([3.3923445], dtype=float32)},\n",
       " {'predictions': array([2.0501754], dtype=float32)},\n",
       " {'predictions': array([2.1443532], dtype=float32)},\n",
       " {'predictions': array([1.6827044], dtype=float32)},\n",
       " {'predictions': array([2.4668033], dtype=float32)},\n",
       " {'predictions': array([2.751307], dtype=float32)},\n",
       " {'predictions': array([1.7387788], dtype=float32)},\n",
       " {'predictions': array([2.8926814], dtype=float32)},\n",
       " {'predictions': array([1.8563064], dtype=float32)},\n",
       " {'predictions': array([2.5992713], dtype=float32)},\n",
       " {'predictions': array([3.0318046], dtype=float32)},\n",
       " {'predictions': array([0.97941613], dtype=float32)},\n",
       " {'predictions': array([2.0232894], dtype=float32)},\n",
       " {'predictions': array([1.4216167], dtype=float32)},\n",
       " {'predictions': array([2.3759887], dtype=float32)},\n",
       " {'predictions': array([2.8604147], dtype=float32)},\n",
       " {'predictions': array([2.275417], dtype=float32)},\n",
       " {'predictions': array([3.3454115], dtype=float32)},\n",
       " {'predictions': array([2.7638524], dtype=float32)},\n",
       " {'predictions': array([2.3201013], dtype=float32)},\n",
       " {'predictions': array([1.633331], dtype=float32)},\n",
       " {'predictions': array([2.101451], dtype=float32)},\n",
       " {'predictions': array([2.573204], dtype=float32)},\n",
       " {'predictions': array([0.8167689], dtype=float32)},\n",
       " {'predictions': array([3.488208], dtype=float32)},\n",
       " {'predictions': array([2.6272593], dtype=float32)},\n",
       " {'predictions': array([2.144001], dtype=float32)},\n",
       " {'predictions': array([1.4085891], dtype=float32)},\n",
       " {'predictions': array([3.1495142], dtype=float32)},\n",
       " {'predictions': array([2.6609068], dtype=float32)},\n",
       " {'predictions': array([2.8633652], dtype=float32)},\n",
       " {'predictions': array([2.0308702], dtype=float32)},\n",
       " {'predictions': array([1.4316835], dtype=float32)},\n",
       " {'predictions': array([1.5441362], dtype=float32)},\n",
       " {'predictions': array([1.4945748], dtype=float32)},\n",
       " {'predictions': array([1.9288375], dtype=float32)},\n",
       " {'predictions': array([2.049028], dtype=float32)},\n",
       " {'predictions': array([2.021251], dtype=float32)},\n",
       " {'predictions': array([2.0820808], dtype=float32)},\n",
       " {'predictions': array([2.0445902], dtype=float32)},\n",
       " {'predictions': array([1.2942425], dtype=float32)},\n",
       " {'predictions': array([2.2139044], dtype=float32)},\n",
       " {'predictions': array([3.256553], dtype=float32)},\n",
       " {'predictions': array([1.3187997], dtype=float32)},\n",
       " {'predictions': array([1.9282341], dtype=float32)},\n",
       " {'predictions': array([2.3683326], dtype=float32)},\n",
       " {'predictions': array([1.6101131], dtype=float32)},\n",
       " {'predictions': array([1.2644818], dtype=float32)},\n",
       " {'predictions': array([2.8088608], dtype=float32)},\n",
       " {'predictions': array([1.570569], dtype=float32)},\n",
       " {'predictions': array([1.3593624], dtype=float32)},\n",
       " {'predictions': array([1.5265945], dtype=float32)},\n",
       " {'predictions': array([1.7408516], dtype=float32)},\n",
       " {'predictions': array([1.5294428], dtype=float32)},\n",
       " {'predictions': array([6.113758], dtype=float32)},\n",
       " {'predictions': array([3.0275695], dtype=float32)},\n",
       " {'predictions': array([1.6349742], dtype=float32)},\n",
       " {'predictions': array([3.1474783], dtype=float32)},\n",
       " {'predictions': array([1.4314767], dtype=float32)},\n",
       " {'predictions': array([2.5037947], dtype=float32)},\n",
       " {'predictions': array([1.3395662], dtype=float32)},\n",
       " {'predictions': array([1.7131982], dtype=float32)},\n",
       " {'predictions': array([4.654542], dtype=float32)},\n",
       " {'predictions': array([1.0178245], dtype=float32)},\n",
       " {'predictions': array([2.1342785], dtype=float32)},\n",
       " {'predictions': array([1.2964525], dtype=float32)},\n",
       " {'predictions': array([1.2707647], dtype=float32)},\n",
       " {'predictions': array([3.1155698], dtype=float32)},\n",
       " {'predictions': array([1.4902639], dtype=float32)},\n",
       " {'predictions': array([2.7682247], dtype=float32)},\n",
       " {'predictions': array([1.9535701], dtype=float32)},\n",
       " {'predictions': array([1.2674164], dtype=float32)},\n",
       " {'predictions': array([1.6888735], dtype=float32)},\n",
       " {'predictions': array([1.3107617], dtype=float32)},\n",
       " {'predictions': array([2.2629874], dtype=float32)},\n",
       " {'predictions': array([3.3889089], dtype=float32)},\n",
       " {'predictions': array([2.211144], dtype=float32)},\n",
       " {'predictions': array([2.8552153], dtype=float32)},\n",
       " {'predictions': array([1.5872592], dtype=float32)},\n",
       " {'predictions': array([3.5507061], dtype=float32)},\n",
       " {'predictions': array([1.4796162], dtype=float32)},\n",
       " {'predictions': array([1.3728945], dtype=float32)},\n",
       " {'predictions': array([1.8448324], dtype=float32)},\n",
       " {'predictions': array([1.6004093], dtype=float32)},\n",
       " {'predictions': array([2.4166992], dtype=float32)},\n",
       " {'predictions': array([2.2727773], dtype=float32)},\n",
       " {'predictions': array([1.1395899], dtype=float32)},\n",
       " {'predictions': array([1.4631636], dtype=float32)},\n",
       " {'predictions': array([2.330099], dtype=float32)},\n",
       " {'predictions': array([2.6983082], dtype=float32)},\n",
       " {'predictions': array([3.23833], dtype=float32)},\n",
       " {'predictions': array([1.9943837], dtype=float32)},\n",
       " {'predictions': array([1.8688463], dtype=float32)},\n",
       " {'predictions': array([1.8573439], dtype=float32)},\n",
       " {'predictions': array([1.3564707], dtype=float32)},\n",
       " {'predictions': array([1.5228101], dtype=float32)},\n",
       " {'predictions': array([1.2681915], dtype=float32)},\n",
       " {'predictions': array([1.6516753], dtype=float32)},\n",
       " {'predictions': array([3.3209841], dtype=float32)},\n",
       " {'predictions': array([1.5015731], dtype=float32)},\n",
       " {'predictions': array([2.1586757], dtype=float32)},\n",
       " {'predictions': array([1.3436732], dtype=float32)},\n",
       " {'predictions': array([1.2304254], dtype=float32)},\n",
       " {'predictions': array([2.7532399], dtype=float32)},\n",
       " {'predictions': array([2.2764757], dtype=float32)},\n",
       " {'predictions': array([1.619537], dtype=float32)},\n",
       " {'predictions': array([1.8634174], dtype=float32)},\n",
       " {'predictions': array([1.4068503], dtype=float32)},\n",
       " {'predictions': array([1.3679571], dtype=float32)},\n",
       " {'predictions': array([5.2639704], dtype=float32)},\n",
       " {'predictions': array([1.8893067], dtype=float32)},\n",
       " {'predictions': array([5.1206174], dtype=float32)},\n",
       " {'predictions': array([3.3542368], dtype=float32)},\n",
       " {'predictions': array([1.3409413], dtype=float32)},\n",
       " {'predictions': array([2.067314], dtype=float32)},\n",
       " {'predictions': array([2.0776079], dtype=float32)},\n",
       " {'predictions': array([1.8248407], dtype=float32)},\n",
       " {'predictions': array([1.1214819], dtype=float32)},\n",
       " {'predictions': array([3.0361054], dtype=float32)},\n",
       " {'predictions': array([2.788364], dtype=float32)},\n",
       " {'predictions': array([2.1787004], dtype=float32)},\n",
       " {'predictions': array([1.2968657], dtype=float32)},\n",
       " {'predictions': array([1.3800666], dtype=float32)},\n",
       " {'predictions': array([1.8218105], dtype=float32)},\n",
       " {'predictions': array([1.8464785], dtype=float32)},\n",
       " {'predictions': array([2.3097575], dtype=float32)},\n",
       " {'predictions': array([1.3828244], dtype=float32)},\n",
       " {'predictions': array([1.3961374], dtype=float32)},\n",
       " {'predictions': array([1.5590132], dtype=float32)},\n",
       " {'predictions': array([2.2889116], dtype=float32)},\n",
       " {'predictions': array([2.1460419], dtype=float32)},\n",
       " {'predictions': array([2.4776983], dtype=float32)},\n",
       " {'predictions': array([3.3607469], dtype=float32)},\n",
       " {'predictions': array([1.6990874], dtype=float32)},\n",
       " {'predictions': array([2.5214498], dtype=float32)},\n",
       " {'predictions': array([5.1987753], dtype=float32)},\n",
       " {'predictions': array([1.2957036], dtype=float32)},\n",
       " {'predictions': array([3.2392335], dtype=float32)},\n",
       " {'predictions': array([2.5036466], dtype=float32)},\n",
       " {'predictions': array([2.763552], dtype=float32)},\n",
       " {'predictions': array([1.6671337], dtype=float32)},\n",
       " {'predictions': array([1.4281265], dtype=float32)},\n",
       " {'predictions': array([2.4584017], dtype=float32)},\n",
       " {'predictions': array([2.6699622], dtype=float32)},\n",
       " {'predictions': array([1.6652117], dtype=float32)},\n",
       " {'predictions': array([1.3503517], dtype=float32)},\n",
       " {'predictions': array([4.8059063], dtype=float32)},\n",
       " {'predictions': array([2.1691945], dtype=float32)},\n",
       " ...]"
      ]
     },
     "execution_count": 122,
     "metadata": {},
     "output_type": "execute_result"
    }
   ],
   "source": [
    "predictions"
   ]
  },
  {
   "cell_type": "markdown",
   "metadata": {},
   "source": [
    "#### Calcular el RMSE"
   ]
  },
  {
   "cell_type": "code",
   "execution_count": 123,
   "metadata": {},
   "outputs": [],
   "source": [
    "final_pred=[]\n",
    "for pred in predictions:\n",
    "    final_pred.append(pred['predictions'])"
   ]
  },
  {
   "cell_type": "code",
   "execution_count": 124,
   "metadata": {},
   "outputs": [],
   "source": [
    "from sklearn.metrics import mean_squared_error"
   ]
  },
  {
   "cell_type": "code",
   "execution_count": 125,
   "metadata": {},
   "outputs": [
    {
     "data": {
      "text/plain": [
       "0.7797295129998091"
      ]
     },
     "execution_count": 125,
     "metadata": {},
     "output_type": "execute_result"
    }
   ],
   "source": [
    "mean_squared_error(y_test,final_pred)**0.5"
   ]
  },
  {
   "cell_type": "markdown",
   "metadata": {},
   "source": [
    "El resultado no es muy bueno. Así que habrá que mejorar un poco jugando con el modelo."
   ]
  }
 ],
 "metadata": {
  "kernelspec": {
   "display_name": "Python 3",
   "language": "python",
   "name": "python3"
  },
  "language_info": {
   "codemirror_mode": {
    "name": "ipython",
    "version": 3
   },
   "file_extension": ".py",
   "mimetype": "text/x-python",
   "name": "python",
   "nbconvert_exporter": "python",
   "pygments_lexer": "ipython3",
   "version": "3.5.6"
  }
 },
 "nbformat": 4,
 "nbformat_minor": 2
}
